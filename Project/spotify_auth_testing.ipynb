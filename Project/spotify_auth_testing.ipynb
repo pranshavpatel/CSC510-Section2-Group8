{
 "cells": [
  {
   "cell_type": "code",
   "execution_count": null,
   "id": "3855315a",
   "metadata": {},
   "outputs": [],
   "source": [
    "import requests, base64\n",
    "from dotenv import load_dotenv\n",
    "import os\n",
    "from fastapi.responses import RedirectResponse\n",
    "\n",
    "load_dotenv()\n",
    "\n",
    "# Load Spotify API credentials from .env file\n",
    "SPOTIFY_CLIENT_ID = os.getenv(\"SPOTIFY_CLIENT_ID\")\n",
    "SPOTIFY_CLIENT_SECRET = os.getenv(\"SPOTIFY_CLIENT_SECRET\")\n",
    "SPOTIFY_REDIRECT_URI = os.getenv(\"SPOTIFY_REDIRECT_URI\")\n",
    "SPOTIFY_SCOPES = os.getenv(\"SPOTIFY_SCOPES\")\n"
   ]
  },
  {
   "cell_type": "code",
   "execution_count": null,
   "id": "219d611c",
   "metadata": {},
   "outputs": [],
   "source": [
    "# APPROACH 1: Simple Authorization URL Generation\n",
    "# Generate Spotify authorization URL\n",
    "# This is the first step in OAuth flow - redirect user to Spotify login\n",
    "AUTH_URL = auth_url = (\n",
    "        \"https://accounts.spotify.com/authorize\"\n",
    "        f\"?client_id={SPOTIFY_CLIENT_ID}\"\n",
    "        f\"&response_type=code\"\n",
    "        f\"&redirect_uri={SPOTIFY_REDIRECT_URI}\"\n",
    "        f\"&scope={SPOTIFY_SCOPES}\"\n",
    "    )\n",
    "\n"
   ]
  },
  {
   "cell_type": "code",
   "execution_count": null,
   "id": "24cc3965",
   "metadata": {},
   "outputs": [],
   "source": [
    "# Create redirect response object\n",
    "redirect_auth = RedirectResponse(url=AUTH_URL)"
   ]
  },
  {
   "cell_type": "code",
   "execution_count": 5,
   "id": "e45b82cd",
   "metadata": {},
   "outputs": [
    {
     "name": "stdout",
     "output_type": "stream",
     "text": [
      "<starlette.responses.RedirectResponse object at 0x000002734B10E570>\n"
     ]
    }
   ],
   "source": [
    "print(redirect_auth)\n"
   ]
  },
  {
   "cell_type": "code",
   "execution_count": null,
   "id": "6c0077e0",
   "metadata": {},
   "outputs": [],
   "source": [
    "from fastapi import FastAPI, Request\n",
    "from fastapi.responses import RedirectResponse\n",
    "import requests, base64\n",
    "\n",
    "# APPROACH 2: FastAPI-based OAuth Implementation\n",
    "# FastAPI app with complete OAuth flow\n",
    "\n",
    "app = FastAPI()\n",
    "\n",
    "# Store credentials in variables for cleaner code\n",
    "CLIENT_ID = SPOTIFY_CLIENT_ID\n",
    "CLIENT_SECRET = SPOTIFY_CLIENT_SECRET\n",
    "REDIRECT_URI = SPOTIFY_REDIRECT_URI\n",
    "SCOPE = SPOTIFY_SCOPES\n",
    "\n",
    "@app.get(\"/\")\n",
    "def login():\n",
    "    \"\"\"\n",
    "    Endpoint to initiate Spotify login.\n",
    "    Redirects user to Spotify authorization page.\n",
    "    \"\"\"\n",
    "    auth_url = (\n",
    "        \"https://accounts.spotify.com/authorize\"\n",
    "        f\"?client_id={CLIENT_ID}\"\n",
    "        f\"&response_type=code\"\n",
    "        f\"&redirect_uri={REDIRECT_URI}\"\n",
    "        f\"&scope={SCOPE}\"\n",
    "    )\n",
    "    return RedirectResponse(auth_url)\n",
    "\n",
    "@app.get(\"/callback\")\n",
    "def callback(request: Request):\n",
    "    \"\"\"\n",
    "    Callback endpoint after user authorizes on Spotify.\n",
    "    Exchanges authorization code for access and refresh tokens.\n",
    "    \"\"\"\n",
    "    # Extract authorization code from query parameters\n",
    "    code = request.query_params.get(\"code\")\n",
    "    token_url = \"https://accounts.spotify.com/api/token\"\n",
    "\n",
    "    # Create Base64 encoded authorization header\n",
    "    auth_header = base64.b64encode(f\"{CLIENT_ID}:{CLIENT_SECRET}\".encode()).decode()\n",
    "    headers = {\"Authorization\": f\"Basic {auth_header}\"}\n",
    "    \n",
    "    # Request tokens from Spotify\n",
    "    data = {\n",
    "        \"grant_type\": \"authorization_code\",\n",
    "        \"code\": code,\n",
    "        \"redirect_uri\": REDIRECT_URI\n",
    "    }\n",
    "\n",
    "    r = requests.post(token_url, headers=headers, data=data)\n",
    "    token_info = r.json()\n",
    "    # Extract tokens from response\n",
    "    access_token = token_info.get(\"access_token\")\n",
    "    refresh_token = token_info.get(\"refresh_token\")\n",
    "\n",
    "    return {\n",
    "        \"access_token\": access_token,\n",
    "        \"refresh_token\": refresh_token\n",
    "    }\n",
    "\n",
    "@app.get(\"/me\")\n",
    "def get_user_profile(access_token: str):\n",
    "    \"\"\"\n",
    "    Test endpoint to fetch current user's Spotify profile.\n",
    "    Requires valid access_token as query parameter.\n",
    "    \"\"\"\n",
    "    headers = {\"Authorization\": f\"Bearer {access_token}\"}\n",
    "    r = requests.get(\"https://api.spotify.com/v1/me\", headers=headers)\n",
    "    return r.json()\n"
   ]
  },
  {
   "cell_type": "code",
   "execution_count": null,
   "id": "38dbc693",
   "metadata": {},
   "outputs": [
    {
     "name": "stdout",
     "output_type": "stream",
     "text": [
      "Opening Spotify login URL...\n",
      "Waiting for Spotify authorization...\n"
     ]
    },
    {
     "name": "stderr",
     "output_type": "stream",
     "text": [
      "127.0.0.1 - - [25/Oct/2025 13:28:02] \"GET /callback?code=AQBRGQxwR9EacrEV4htGFrSrZD21WOcg9Af_F4U7OJ36NSMiHkFzFGS3zLAVaw-5gQ2lbp6uqTMSqFVoRiOIclZ7LYRH_B5P47-JB3l7_u0GHAtNEkxci-URQbghbnitJmACGMAL6ehEzNpyH6fEHQzQT7VGDLLBzLYA7oihnZTXChim1fsGDPGOTuRy5FTwzW8ixFA2GixV6IDbCkgxhHtlKFTJ4bac4oRarn8CVsfr0TTcQHT1dc4ZJh5hN0rNAuHXmxUpxE_wbGpvQIbnjr6EfHsZcw HTTP/1.1\" 200 -\n"
     ]
    },
    {
     "name": "stdout",
     "output_type": "stream",
     "text": [
      "Authorization Code: AQBRGQxwR9EacrEV4htGFrSrZD21WOcg9Af_F4U7OJ36NSMiHkFzFGS3zLAVaw-5gQ2lbp6uqTMSqFVoRiOIclZ7LYRH_B5P47-JB3l7_u0GHAtNEkxci-URQbghbnitJmACGMAL6ehEzNpyH6fEHQzQT7VGDLLBzLYA7oihnZTXChim1fsGDPGOTuRy5FTwzW8ixFA2GixV6IDbCkgxhHtlKFTJ4bac4oRarn8CVsfr0TTcQHT1dc4ZJh5hN0rNAuHXmxUpxE_wbGpvQIbnjr6EfHsZcw\n",
      "Access Token: BQAjCMHvqqTHX7c79D2-R1AHnW-udkLXCigOU3d_kKwgjbtWTYVhlN3WTbkFuTLfSXyNNWkv1Jtg4Wnb32-RtKc3IQ6jELK0Z5-DfVacOOR3OSPsCfeTqLN7gIjLgBhi4yfmMfhwIBjkVbjURiJzf_Z-j_9v3sn2LA_eIfsl1HbbwR_6uBP06rmIJ0MZB3O6KhpIISiHYmr2qmDjOO-qSWyndx4KufYFWxJ5uOO7dRNJf1YE1ieDVS00oN0YHcNn9ird52k95wwPMmErgMjGyw\n",
      "Refresh Token: AQC5IbymrnPx4c-kYjSbARKNuPhJsfkcIWfaBemuSMJV0qHGhOYtOcIzxoxGytjjEd13MTvCcA-3LOhRBVuJ_CT3L8dwgvQhgqw67D0eT4q1eVbLaGeDEpFoiYRyAdstAnQ\n",
      "{'display_name': 'draqa', 'external_urls': {'spotify': 'https://open.spotify.com/user/31zkynjlgmywa25xynvjao7vtcse'}, 'followers': {'href': None, 'total': 1}, 'href': 'https://api.spotify.com/v1/users/31zkynjlgmywa25xynvjao7vtcse', 'id': '31zkynjlgmywa25xynvjao7vtcse', 'images': [], 'type': 'user', 'uri': 'spotify:user:31zkynjlgmywa25xynvjao7vtcse'}\n"
     ]
    }
   ],
   "source": [
    "import requests\n",
    "import base64\n",
    "from urllib.parse import urlencode\n",
    "from http.server import HTTPServer, BaseHTTPRequestHandler\n",
    "import webbrowser\n",
    "import time\n",
    "\n",
    "# APPROACH 3: Local HTTP Server for Interactive Testing\n",
    "# Complete OAuth flow with local server\n",
    "\n",
    "CLIENT_ID = SPOTIFY_CLIENT_ID\n",
    "CLIENT_SECRET = SPOTIFY_CLIENT_SECRET\n",
    "REDIRECT_URI = SPOTIFY_REDIRECT_URI\n",
    "SCOPE = SPOTIFY_SCOPES\n",
    "\n",
    "# Step 1: Ask user to log in\n",
    "params = {\n",
    "    \"client_id\": CLIENT_ID,\n",
    "    \"response_type\": \"code\",\n",
    "    \"redirect_uri\": REDIRECT_URI,\n",
    "    \"scope\": SCOPE,\n",
    "}\n",
    "auth_url = f\"https://accounts.spotify.com/authorize?{urlencode(params)}\"\n",
    "print(\"Opening Spotify login URL...\")\n",
    "webbrowser.open(auth_url) # Opens browser to Spotify login page\n",
    "\n",
    "# Step 2: Simple local HTTP server to catch redirect\n",
    "code_container = {} # Shared container to store authorization code\n",
    "\n",
    "class Handler(BaseHTTPRequestHandler):\n",
    "    \"\"\"\n",
    "    Simple HTTP handler to catch the OAuth callback.\n",
    "    Extracts the authorization code from the URL.\n",
    "    \"\"\"\n",
    "    def do_GET(self):\n",
    "        if \"/callback\" in self.path:\n",
    "            from urllib.parse import parse_qs, urlparse\n",
    "            # Parse authorization code from callback URL\n",
    "            query = parse_qs(urlparse(self.path).query)\n",
    "            code_container[\"code\"] = query.get(\"code\", [None])[0]\n",
    "            # Send success response to browser\n",
    "            self.send_response(200)\n",
    "            self.end_headers()\n",
    "            self.wfile.write(b\"You can close this window now.\")\n",
    "        else:\n",
    "            self.send_response(404)\n",
    "            self.end_headers()\n",
    "\n",
    "# Start server on localhost:8888 and wait for one request\n",
    "server = HTTPServer((\"localhost\", 8888), Handler)\n",
    "print(\"Waiting for Spotify authorization...\")\n",
    "server.handle_request() # Blocks until callback is received\n",
    "server.server_close()\n",
    "\n",
    "auth_code = code_container.get(\"code\")\n",
    "print(\"Authorization Code:\", auth_code)\n",
    "\n",
    "# Step 3: Exchange code for access + refresh token\n",
    "token_url = \"https://accounts.spotify.com/api/token\"\n",
    "auth_header = base64.b64encode(f\"{CLIENT_ID}:{CLIENT_SECRET}\".encode()).decode()\n",
    "headers = {\"Authorization\": f\"Basic {auth_header}\"}\n",
    "data = {\n",
    "    \"grant_type\": \"authorization_code\",\n",
    "    \"code\": auth_code,\n",
    "    \"redirect_uri\": REDIRECT_URI,\n",
    "}\n",
    "\n",
    "r = requests.post(token_url, headers=headers, data=data)\n",
    "tokens = r.json()\n",
    "\n",
    "# Extract token information\n",
    "access_token = tokens.get(\"access_token\")\n",
    "refresh_token = tokens.get(\"refresh_token\")\n",
    "expires_in = tokens.get(\"expires_in\")  # Token lifetime in seconds\n",
    "expires_at = int(time.time()) + expires_in if expires_in else None # Calculate expiration timestamp\n",
    "\n",
    "# Step 4: Example API call\n",
    "# headers = {\"Authorization\": f\"Bearer {tokens.get('access_token')}\"}\n",
    "# me = requests.get(\"https://api.spotify.com/v1/me\", headers=headers).json()\n",
    "# print(me)\n"
   ]
  },
  {
   "cell_type": "code",
   "execution_count": null,
   "id": "bdee0617",
   "metadata": {},
   "outputs": [],
   "source": []
  }
 ],
 "metadata": {
  "kernelspec": {
   "display_name": "Python 3",
   "language": "python",
   "name": "python3"
  },
  "language_info": {
   "codemirror_mode": {
    "name": "ipython",
    "version": 3
   },
   "file_extension": ".py",
   "mimetype": "text/x-python",
   "name": "python",
   "nbconvert_exporter": "python",
   "pygments_lexer": "ipython3",
   "version": "3.12.6"
  }
 },
 "nbformat": 4,
 "nbformat_minor": 5
}
