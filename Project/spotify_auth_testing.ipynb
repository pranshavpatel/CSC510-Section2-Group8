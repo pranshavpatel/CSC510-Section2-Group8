{
 "cells": [
  {
   "cell_type": "code",
   "execution_count": 1,
   "id": "3855315a",
   "metadata": {},
   "outputs": [],
   "source": [
    "import requests, base64\n",
    "from dotenv import load_dotenv\n",
    "import os\n",
    "from fastapi.responses import RedirectResponse\n",
    "\n",
    "load_dotenv()\n",
    "\n",
    "SPOTIFY_CLIENT_ID = os.getenv(\"SPOTIFY_CLIENT_ID\")\n",
    "SPOTIFY_CLIENT_SECRET = os.getenv(\"SPOTIFY_CLIENT_SECRET\")\n",
    "SPOTIFY_REDIRECT_URI = os.getenv(\"SPOTIFY_REDIRECT_URI\")\n",
    "SPOTIFY_SCOPES = os.getenv(\"SPOTIFY_SCOPES\")\n"
   ]
  },
  {
   "cell_type": "code",
   "execution_count": 3,
   "id": "219d611c",
   "metadata": {},
   "outputs": [],
   "source": [
    "AUTH_URL = auth_url = (\n",
    "        \"https://accounts.spotify.com/authorize\"\n",
    "        f\"?client_id={SPOTIFY_CLIENT_ID}\"\n",
    "        f\"&response_type=code\"\n",
    "        f\"&redirect_uri={SPOTIFY_REDIRECT_URI}\"\n",
    "        f\"&scope={SPOTIFY_SCOPES}\"\n",
    "    )\n",
    "\n"
   ]
  },
  {
   "cell_type": "code",
   "execution_count": 4,
   "id": "24cc3965",
   "metadata": {},
   "outputs": [],
   "source": [
    "redirect_auth = RedirectResponse(url=AUTH_URL)"
   ]
  },
  {
   "cell_type": "code",
   "execution_count": 5,
   "id": "e45b82cd",
   "metadata": {},
   "outputs": [
    {
     "name": "stdout",
     "output_type": "stream",
     "text": [
      "<starlette.responses.RedirectResponse object at 0x000002734B10E570>\n"
     ]
    }
   ],
   "source": [
    "print(redirect_auth)\n"
   ]
  },
  {
   "cell_type": "code",
   "execution_count": 6,
   "id": "6c0077e0",
   "metadata": {},
   "outputs": [],
   "source": [
    "from fastapi import FastAPI, Request\n",
    "from fastapi.responses import RedirectResponse\n",
    "import requests, base64\n",
    "\n",
    "app = FastAPI()\n",
    "\n",
    "CLIENT_ID = SPOTIFY_CLIENT_ID\n",
    "CLIENT_SECRET = SPOTIFY_CLIENT_SECRET\n",
    "REDIRECT_URI = SPOTIFY_REDIRECT_URI\n",
    "SCOPE = SPOTIFY_SCOPES\n",
    "\n",
    "@app.get(\"/\")\n",
    "def login():\n",
    "    auth_url = (\n",
    "        \"https://accounts.spotify.com/authorize\"\n",
    "        f\"?client_id={CLIENT_ID}\"\n",
    "        f\"&response_type=code\"\n",
    "        f\"&redirect_uri={REDIRECT_URI}\"\n",
    "        f\"&scope={SCOPE}\"\n",
    "    )\n",
    "    return RedirectResponse(auth_url)\n",
    "\n",
    "@app.get(\"/callback\")\n",
    "def callback(request: Request):\n",
    "    code = request.query_params.get(\"code\")\n",
    "    token_url = \"https://accounts.spotify.com/api/token\"\n",
    "\n",
    "    auth_header = base64.b64encode(f\"{CLIENT_ID}:{CLIENT_SECRET}\".encode()).decode()\n",
    "    headers = {\"Authorization\": f\"Basic {auth_header}\"}\n",
    "    data = {\n",
    "        \"grant_type\": \"authorization_code\",\n",
    "        \"code\": code,\n",
    "        \"redirect_uri\": REDIRECT_URI\n",
    "    }\n",
    "\n",
    "    r = requests.post(token_url, headers=headers, data=data)\n",
    "    token_info = r.json()\n",
    "\n",
    "    access_token = token_info.get(\"access_token\")\n",
    "    refresh_token = token_info.get(\"refresh_token\")\n",
    "\n",
    "    return {\n",
    "        \"access_token\": access_token,\n",
    "        \"refresh_token\": refresh_token\n",
    "    }\n",
    "\n",
    "@app.get(\"/me\")\n",
    "def get_user_profile(access_token: str):\n",
    "    headers = {\"Authorization\": f\"Bearer {access_token}\"}\n",
    "    r = requests.get(\"https://api.spotify.com/v1/me\", headers=headers)\n",
    "    return r.json()\n"
   ]
  },
  {
   "cell_type": "code",
   "execution_count": null,
   "id": "38dbc693",
   "metadata": {},
   "outputs": [
    {
     "name": "stdout",
     "output_type": "stream",
     "text": [
      "Opening Spotify login URL...\n",
      "Waiting for Spotify authorization...\n"
     ]
    }
   ],
   "source": [
    "import requests\n",
    "import base64\n",
    "from urllib.parse import urlencode\n",
    "from http.server import HTTPServer, BaseHTTPRequestHandler\n",
    "import webbrowser\n",
    "\n",
    "CLIENT_ID = SPOTIFY_CLIENT_ID\n",
    "CLIENT_SECRET = SPOTIFY_CLIENT_SECRET\n",
    "REDIRECT_URI = SPOTIFY_REDIRECT_URI\n",
    "SCOPE = SPOTIFY_SCOPES\n",
    "\n",
    "# Step 1: Ask user to log in\n",
    "params = {\n",
    "    \"client_id\": CLIENT_ID,\n",
    "    \"response_type\": \"code\",\n",
    "    \"redirect_uri\": REDIRECT_URI,\n",
    "    \"scope\": SCOPE,\n",
    "}\n",
    "auth_url = f\"https://accounts.spotify.com/authorize?{urlencode(params)}\"\n",
    "print(\"Opening Spotify login URL...\")\n",
    "webbrowser.open(auth_url)\n",
    "\n",
    "# Step 2: Simple local HTTP server to catch redirect\n",
    "code_container = {}\n",
    "\n",
    "class Handler(BaseHTTPRequestHandler):\n",
    "    def do_GET(self):\n",
    "        if \"/callback\" in self.path:\n",
    "            from urllib.parse import parse_qs, urlparse\n",
    "            query = parse_qs(urlparse(self.path).query)\n",
    "            code_container[\"code\"] = query.get(\"code\", [None])[0]\n",
    "            self.send_response(200)\n",
    "            self.end_headers()\n",
    "            self.wfile.write(b\"You can close this window now.\")\n",
    "        else:\n",
    "            self.send_response(404)\n",
    "            self.end_headers()\n",
    "\n",
    "server = HTTPServer((\"localhost\", 8080), Handler)\n",
    "print(\"Waiting for Spotify authorization...\")\n",
    "server.handle_request()\n",
    "server.server_close()\n",
    "\n",
    "auth_code = code_container.get(\"code\")\n",
    "print(\"Authorization Code:\", auth_code)\n",
    "\n",
    "# Step 3: Exchange code for access + refresh token\n",
    "token_url = \"https://accounts.spotify.com/api/token\"\n",
    "auth_header = base64.b64encode(f\"{CLIENT_ID}:{CLIENT_SECRET}\".encode()).decode()\n",
    "headers = {\"Authorization\": f\"Basic {auth_header}\"}\n",
    "data = {\n",
    "    \"grant_type\": \"authorization_code\",\n",
    "    \"code\": auth_code,\n",
    "    \"redirect_uri\": REDIRECT_URI,\n",
    "}\n",
    "\n",
    "r = requests.post(token_url, headers=headers, data=data)\n",
    "tokens = r.json()\n",
    "print(\"Access Token:\", tokens.get(\"access_token\"))\n",
    "print(\"Refresh Token:\", tokens.get(\"refresh_token\"))\n",
    "\n",
    "# Step 4: Example API call\n",
    "headers = {\"Authorization\": f\"Bearer {tokens.get('access_token')}\"}\n",
    "me = requests.get(\"https://api.spotify.com/v1/me\", headers=headers).json()\n",
    "print(me)\n"
   ]
  },
  {
   "cell_type": "code",
   "execution_count": null,
   "id": "bdee0617",
   "metadata": {},
   "outputs": [],
   "source": []
  }
 ],
 "metadata": {
  "kernelspec": {
   "display_name": "Python 3",
   "language": "python",
   "name": "python3"
  },
  "language_info": {
   "codemirror_mode": {
    "name": "ipython",
    "version": 3
   },
   "file_extension": ".py",
   "mimetype": "text/x-python",
   "name": "python",
   "nbconvert_exporter": "python",
   "pygments_lexer": "ipython3",
   "version": "3.12.6"
  }
 },
 "nbformat": 4,
 "nbformat_minor": 5
}
