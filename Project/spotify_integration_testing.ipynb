{
 "cells": [
  {
   "cell_type": "code",
   "execution_count": null,
   "id": "c5b995c8",
   "metadata": {},
   "outputs": [],
   "source": [
    "# pip install ipykernel"
   ]
  },
  {
   "cell_type": "code",
   "execution_count": 1,
   "id": "135f44d6",
   "metadata": {},
   "outputs": [
    {
     "data": {
      "text/plain": [
       "True"
      ]
     },
     "execution_count": 1,
     "metadata": {},
     "output_type": "execute_result"
    }
   ],
   "source": [
    "import spotipy\n",
    "import requests\n",
    "import os\n",
    "from urllib.parse import urlencode\n",
    "from dotenv import load_dotenv\n",
    "\n",
    "load_dotenv()\n"
   ]
  },
  {
   "cell_type": "code",
   "execution_count": 2,
   "id": "8cabbd44",
   "metadata": {},
   "outputs": [],
   "source": [
    "SPOTIFY_CLIENT_ID = os.getenv(\"SPOTIFY_CLIENT_ID\")\n",
    "SPOTIFY_CLIENT_SECRET = os.getenv(\"SPOTIFY_CLIENT_SECRET\")\n",
    "SPOTIFY_REDIRECT_URI = os.getenv(\"SPOTIFY_REDIRECT_URI\")\n",
    "SPOTIFY_SCOPES = os.getenv(\"SPOTIFY_SCOPES\")\n",
    "\n"
   ]
  },
  {
   "cell_type": "code",
   "execution_count": 3,
   "id": "1d8e6d93",
   "metadata": {},
   "outputs": [
    {
     "name": "stdout",
     "output_type": "stream",
     "text": [
      "{'display_name': 'draqa', 'external_urls': {'spotify': 'https://open.spotify.com/user/31zkynjlgmywa25xynvjao7vtcse'}, 'followers': {'href': None, 'total': 1}, 'href': 'https://api.spotify.com/v1/users/31zkynjlgmywa25xynvjao7vtcse', 'id': '31zkynjlgmywa25xynvjao7vtcse', 'images': [], 'type': 'user', 'uri': 'spotify:user:31zkynjlgmywa25xynvjao7vtcse'}\n"
     ]
    }
   ],
   "source": [
    "import spotipy\n",
    "from spotipy.oauth2 import SpotifyOAuth\n",
    "\n",
    "\n",
    "\n",
    "# Set up Spotify OAuth\n",
    "sp = spotipy.Spotify(auth_manager=SpotifyOAuth(\n",
    "    client_id= SPOTIFY_CLIENT_ID,\n",
    "    client_secret=SPOTIFY_CLIENT_SECRET,\n",
    "    redirect_uri=SPOTIFY_REDIRECT_URI,\n",
    "    scope=SPOTIFY_SCOPES,\n",
    "    show_dialog=True  # <-- ensures login window shows even if token exists\n",
    "))\n",
    "\n",
    "# Get current user's info (for testing)\n",
    "user = sp.current_user()\n",
    "print(user)\n"
   ]
  },
  {
   "cell_type": "markdown",
   "id": "bd83df8f",
   "metadata": {},
   "source": [
    "# Top tracks"
   ]
  },
  {
   "cell_type": "code",
   "execution_count": 4,
   "id": "e08b8924",
   "metadata": {},
   "outputs": [
    {
     "name": "stdout",
     "output_type": "stream",
     "text": [
      "1. Savariya Parnaye by Divana\n",
      "2. Ham Tere Pyar Mein by Lata Mangeshkar\n",
      "3. HEAVEN AND BACK by Chase Atlantic\n",
      "4. Tadpaoge Tadpa Lo by Lata Mangeshkar\n",
      "5. Zara Halke Gaadi Hanko by Prahlad Singh Tipaniya\n",
      "6. Ram Lakshman Janki by Hemant Chauhan\n",
      "7. Let It Happen by Tame Impala\n",
      "8. FACEDOWN by Chase Atlantic\n",
      "9. Jhol - Acoustic by Maanu\n",
      "10. Mevadna Maharajane Khamma Re Khamma by Hemant Chauhan\n",
      "11. Finding Her by Kushagra\n",
      "12. Tere Liye by Atif Aslam\n",
      "13. K. by Cigarettes After Sex\n",
      "14. Tujh Ko Dariya Dil Ki Kasam by Jagjit Singh\n",
      "15. Jai Aadhyashakti by Chintan Trivedi\n",
      "16. RAMO RE by Jigardan Gadhavi\n",
      "17. Darasal (From \"Raabta\") by Atif Aslam\n",
      "18. New Person, Same Old Mistakes by Tame Impala\n",
      "19. Tum Itna Jo Muskura Rahe Ho (Live) by Jagjit Singh\n",
      "20. Vrindavan by Jigardan Gadhavi\n"
     ]
    }
   ],
   "source": [
    "# Get the user's top tracks\n",
    "top_tracks = sp.current_user_top_tracks(limit=20, offset=0, time_range='medium_term')\n",
    "for idx, track in enumerate(top_tracks['items']):\n",
    "    print(f\"{idx + 1}. {track['name']} by {track['artists'][0]['name']}\")\n"
   ]
  },
  {
   "cell_type": "code",
   "execution_count": 5,
   "id": "980fd7da",
   "metadata": {},
   "outputs": [
    {
     "name": "stdout",
     "output_type": "stream",
     "text": [
      "1. Zara Halke Gaadi Hanko — Prahlad Singh Tipaniya, Devnarayan Saroliya, Ajay Tipaniya\n",
      "2. Somewhere Only We Know — Keane\n",
      "3. Iris — The Goo Goo Dolls\n",
      "4. Ordinary — Alex Warren\n",
      "5. Risk — Gracie Abrams\n",
      "6. Tainu Khabar Nahi - From \"Munjya\" — Sachin-Jigar, Arijit Singh\n",
      "7. Tainu Khabar Nahi - From \"Munjya\" — Sachin-Jigar, Arijit Singh\n",
      "8. Lost Memory — VØJ, Narvent\n",
      "9. Water - Remix — Tyla, Travis Scott\n",
      "10. Last Christmas — Wham!\n"
     ]
    }
   ],
   "source": [
    "results = sp.current_user_recently_played(limit=10)\n",
    "\n",
    "# Print the track names and artists\n",
    "for idx, item in enumerate(results['items']):\n",
    "    track = item['track']\n",
    "    artist_names = \", \".join([artist['name'] for artist in track['artists']])\n",
    "    print(f\"{idx + 1}. {track['name']} — {artist_names}\")"
   ]
  },
  {
   "cell_type": "code",
   "execution_count": 6,
   "id": "a498a114",
   "metadata": {},
   "outputs": [
    {
     "name": "stdout",
     "output_type": "stream",
     "text": [
      "1. Zara Halke Gaadi Hanko — Prahlad Singh Tipaniya, Devnarayan Saroliya, Ajay Tipaniya (Played at: 2025-10-16T20:01:14.546Z)\n",
      "2. Somewhere Only We Know — Keane (Played at: 2025-10-16T19:51:59.967Z)\n",
      "3. Iris — The Goo Goo Dolls (Played at: 2025-10-16T19:51:57.832Z)\n",
      "4. Ordinary — Alex Warren (Played at: 2025-10-16T19:31:23.121Z)\n",
      "5. Risk — Gracie Abrams (Played at: 2025-10-16T19:26:53.211Z)\n",
      "6. Tainu Khabar Nahi - From \"Munjya\" — Sachin-Jigar, Arijit Singh (Played at: 2025-10-16T19:20:47.352Z)\n",
      "7. Tainu Khabar Nahi - From \"Munjya\" — Sachin-Jigar, Arijit Singh (Played at: 2025-10-16T17:33:14.523Z)\n",
      "8. Lost Memory — VØJ, Narvent (Played at: 2025-10-16T15:53:48.568Z)\n",
      "9. Water - Remix — Tyla, Travis Scott (Played at: 2025-10-16T15:48:57.469Z)\n",
      "10. Last Christmas — Wham! (Played at: 2025-10-16T15:47:14.098Z)\n"
     ]
    }
   ],
   "source": [
    "results = sp.current_user_recently_played(limit=10)\n",
    "\n",
    "# Print the track names, artists, and when it was played\n",
    "for idx, item in enumerate(results['items']):\n",
    "    track = item['track']\n",
    "    artist_names = \", \".join([artist['name'] for artist in track['artists']])\n",
    "    played_at = item['played_at']  # This gives ISO 8601 UTC timestamp\n",
    "    print(f\"{idx + 1}. {track['name']} — {artist_names} (Played at: {played_at})\")\n"
   ]
  },
  {
   "cell_type": "code",
   "execution_count": 7,
   "id": "0fafdb0d",
   "metadata": {},
   "outputs": [
    {
     "name": "stdout",
     "output_type": "stream",
     "text": [
      "1. Zara Halke Gaadi Hanko — Prahlad Singh Tipaniya, Devnarayan Saroliya, Ajay Tipaniya (Played at: 2025-10-16 16:01:14)\n",
      "2. Somewhere Only We Know — Keane (Played at: 2025-10-16 15:51:59)\n",
      "3. Iris — The Goo Goo Dolls (Played at: 2025-10-16 15:51:57)\n",
      "4. Ordinary — Alex Warren (Played at: 2025-10-16 15:31:23)\n",
      "5. Risk — Gracie Abrams (Played at: 2025-10-16 15:26:53)\n",
      "6. Tainu Khabar Nahi - From \"Munjya\" — Sachin-Jigar, Arijit Singh (Played at: 2025-10-16 15:20:47)\n",
      "7. Tainu Khabar Nahi - From \"Munjya\" — Sachin-Jigar, Arijit Singh (Played at: 2025-10-16 13:33:14)\n",
      "8. Lost Memory — VØJ, Narvent (Played at: 2025-10-16 11:53:48)\n",
      "9. Water - Remix — Tyla, Travis Scott (Played at: 2025-10-16 11:48:57)\n",
      "10. Last Christmas — Wham! (Played at: 2025-10-16 11:47:14)\n"
     ]
    }
   ],
   "source": [
    "from datetime import datetime, timezone\n",
    "\n",
    "items_dict = {}\n",
    "for idx, item in enumerate(results['items']):\n",
    "    track = item['track']\n",
    "    artist_names = \", \".join([artist['name'] for artist in track['artists']])\n",
    "    played_at_utc = datetime.fromisoformat(item['played_at'].replace('Z', '+00:00'))\n",
    "    played_at_local = played_at_utc.astimezone()  # Converts to local timezone\n",
    "    print(f\"{idx + 1}. {track['name']} — {artist_names} (Played at: {played_at_local.strftime('%Y-%m-%d %H:%M:%S')})\")\n",
    "    time_stamp = played_at_local.timestamp()\n",
    "    items_dict[idx + 1] = {\n",
    "        'track_name': track['name'],\n",
    "        'artist_names': artist_names,\n",
    "        'played_at': played_at_local.strftime('%Y-%m-%d %H:%M:%S'),\n",
    "        'time_stamp': time_stamp\n",
    "    }\n"
   ]
  },
  {
   "cell_type": "code",
   "execution_count": 8,
   "id": "b1401207",
   "metadata": {},
   "outputs": [],
   "source": [
    "times = [v['time_stamp'] for v in items_dict.values()]\n",
    "most_recent = max(times)\n",
    "deltas = [(most_recent - t) / 60 for t in times]  # minutes difference\n"
   ]
  },
  {
   "cell_type": "code",
   "execution_count": 9,
   "id": "79bc8cce",
   "metadata": {},
   "outputs": [
    {
     "name": "stdout",
     "output_type": "stream",
     "text": [
      "[0.0, 9.242983333269756, 9.278566666444142, 29.857083332538604, 34.355583333969115, 40.4532333334287, 148.00038333336514, 247.4329666654269, 252.28461666504543, 254.00746666590373]\n"
     ]
    }
   ],
   "source": [
    "print(deltas)"
   ]
  },
  {
   "cell_type": "code",
   "execution_count": 10,
   "id": "14375860",
   "metadata": {},
   "outputs": [
    {
     "name": "stdout",
     "output_type": "stream",
     "text": [
      "[1.0, 0.09762780700344857, 0.09728982964761455, 0.03240746992265164, 0.02828407582909868, 0.024123570577872882, 0.0067113921295266455, 0.004025230682636149, 0.003948127656416036, 0.0039214538031944884]\n"
     ]
    }
   ],
   "source": [
    "weights = [1 / (1 + d) for d in deltas]\n",
    "\n",
    "print(weights)"
   ]
  },
  {
   "cell_type": "code",
   "execution_count": 11,
   "id": "c527afbd",
   "metadata": {},
   "outputs": [
    {
     "name": "stdout",
     "output_type": "stream",
     "text": [
      "[1.         0.8572294  0.85672116 0.6079771  0.5640609  0.50955343\n",
      " 0.08486674 0.01618156 0.01492461 0.01450216]\n"
     ]
    }
   ],
   "source": [
    "import numpy as np\n",
    "\n",
    "tau = 60\n",
    "\n",
    "weights_exp = np.exp(-np.array(deltas) / tau)\n",
    "\n",
    "print(weights_exp)"
   ]
  },
  {
   "cell_type": "code",
   "execution_count": 12,
   "id": "c7c905a2",
   "metadata": {},
   "outputs": [],
   "source": [
    "weights = weights / np.sum(weights)\n",
    "weights_exp = weights_exp / np.sum(weights_exp)"
   ]
  },
  {
   "cell_type": "code",
   "execution_count": 13,
   "id": "438c56df",
   "metadata": {},
   "outputs": [
    {
     "name": "stdout",
     "output_type": "stream",
     "text": [
      "[0.77021489 0.07519439 0.07493408 0.02496072 0.02178482 0.01858033\n",
      " 0.00516921 0.00310029 0.00304091 0.00302036]\n"
     ]
    }
   ],
   "source": [
    "print(weights)"
   ]
  },
  {
   "cell_type": "code",
   "execution_count": null,
   "id": "0e235c44",
   "metadata": {},
   "outputs": [
    {
     "name": "stdout",
     "output_type": "stream",
     "text": [
      "Requirement already satisfied: groq in c:\\users\\admin\\appdata\\local\\programs\\python\\python312\\lib\\site-packages (0.28.0)"
     ]
    },
    {
     "name": "stderr",
     "output_type": "stream",
     "text": [
      "\n",
      "[notice] A new release of pip is available: 24.2 -> 25.2\n",
      "[notice] To update, run: python.exe -m pip install --upgrade pip\n"
     ]
    },
    {
     "name": "stdout",
     "output_type": "stream",
     "text": [
      "\n",
      "Requirement already satisfied: anyio<5,>=3.5.0 in c:\\users\\admin\\appdata\\local\\programs\\python\\python312\\lib\\site-packages (from groq) (4.10.0)\n",
      "Requirement already satisfied: distro<2,>=1.7.0 in c:\\users\\admin\\appdata\\local\\programs\\python\\python312\\lib\\site-packages (from groq) (1.9.0)\n",
      "Requirement already satisfied: httpx<1,>=0.23.0 in c:\\users\\admin\\appdata\\local\\programs\\python\\python312\\lib\\site-packages (from groq) (0.28.1)\n",
      "Requirement already satisfied: pydantic<3,>=1.9.0 in c:\\users\\admin\\appdata\\local\\programs\\python\\python312\\lib\\site-packages (from groq) (2.10.4)\n",
      "Requirement already satisfied: sniffio in c:\\users\\admin\\appdata\\local\\programs\\python\\python312\\lib\\site-packages (from groq) (1.3.1)\n",
      "Requirement already satisfied: typing-extensions<5,>=4.10 in c:\\users\\admin\\appdata\\local\\programs\\python\\python312\\lib\\site-packages (from groq) (4.12.2)\n",
      "Requirement already satisfied: idna>=2.8 in c:\\users\\admin\\appdata\\local\\programs\\python\\python312\\lib\\site-packages (from anyio<5,>=3.5.0->groq) (3.10)\n",
      "Requirement already satisfied: certifi in c:\\users\\admin\\appdata\\local\\programs\\python\\python312\\lib\\site-packages (from httpx<1,>=0.23.0->groq) (2024.12.14)\n",
      "Requirement already satisfied: httpcore==1.* in c:\\users\\admin\\appdata\\local\\programs\\python\\python312\\lib\\site-packages (from httpx<1,>=0.23.0->groq) (1.0.7)\n",
      "Requirement already satisfied: h11<0.15,>=0.13 in c:\\users\\admin\\appdata\\local\\programs\\python\\python312\\lib\\site-packages (from httpcore==1.*->httpx<1,>=0.23.0->groq) (0.14.0)\n",
      "Requirement already satisfied: annotated-types>=0.6.0 in c:\\users\\admin\\appdata\\local\\programs\\python\\python312\\lib\\site-packages (from pydantic<3,>=1.9.0->groq) (0.7.0)\n",
      "Requirement already satisfied: pydantic-core==2.27.2 in c:\\users\\admin\\appdata\\local\\programs\\python\\python312\\lib\\site-packages (from pydantic<3,>=1.9.0->groq) (2.27.2)\n"
     ]
    }
   ],
   "source": [
    "# !pip install groq"
   ]
  },
  {
   "cell_type": "code",
   "execution_count": 15,
   "id": "e562b296",
   "metadata": {},
   "outputs": [],
   "source": [
    "from groq import AsyncGroq\n",
    "import os\n",
    "from dotenv import load_dotenv\n",
    "\n",
    "load_dotenv()\n",
    "\n",
    "GROQ_API_KEY = os.getenv(\"GROQ_API_KEY\")   \n",
    "\n",
    "\n",
    "client = AsyncGroq(\n",
    "    api_key=GROQ_API_KEY,\n",
    ")"
   ]
  },
  {
   "cell_type": "code",
   "execution_count": 16,
   "id": "02e3a5ee",
   "metadata": {},
   "outputs": [],
   "source": [
    "system_prompt = f\"\"\"\n",
    "You are an intelligent model that classifies both the music genre and the listener’s mood\n",
    "based on multiple songs provided together.\n",
    "\n",
    "The user prompt will be a JSON list containing up to 10 song objects in this format:\n",
    "[\n",
    "  {{\n",
    "    \"song name\": \"\",\n",
    "    \"artist/s\": [],\n",
    "    \"Album\": \"\"\n",
    "  }},\n",
    "  ...\n",
    "]\n",
    "\n",
    "Your task:\n",
    "1. Analyze all songs jointly to understand the listener's overall context.\n",
    "2. For each song, infer its most relevant specific genres and moods.\n",
    "3. Avoid broad or generic genre labels like \"pop\", \"rock\", \"indie\" unless strongly justified by the artist or song identity.\n",
    "4. Use precise subgenres or stylistic tags whenever possible (e.g., \"synthpop\", \"folk rock\", \"trap\", \"R&B soul\").\n",
    "\n",
    "Generate output strictly in this JSON format:\n",
    "[\n",
    "  {{\n",
    "    \"song name\": \"\",\n",
    "    \"genre\": [<up to 5 accurate genre tags>],\n",
    "    \"mood\": [<up to 5 accurate mood tags>]\n",
    "  }},\n",
    "  ...\n",
    "]\n",
    "\n",
    "IMPORTANT INSTRUCTIONS:\n",
    "- Do not enclose it in PYTHON or JSON syntax blocks.\n",
    "- Do not include explanations or commentary.\n",
    "- Output must be valid JSON only.\n",
    "\"\"\"\n"
   ]
  },
  {
   "cell_type": "code",
   "execution_count": 17,
   "id": "5bf090bb",
   "metadata": {},
   "outputs": [],
   "source": [
    "response = await client.chat.completions.create(\n",
    "    messages=[\n",
    "        {\n",
    "            \"role\": \"system\",\n",
    "            \"content\": system_prompt,\n",
    "        },\n",
    "        {\n",
    "            \"role\": \"user\",\n",
    "            \"content\": str(items_dict.values()),\n",
    "        },\n",
    "    ],\n",
    "    model=\"llama-3.3-70b-versatile\",\n",
    "    temperature=0.5\n",
    ")"
   ]
  },
  {
   "cell_type": "code",
   "execution_count": 18,
   "id": "d2c24ce8",
   "metadata": {},
   "outputs": [
    {
     "name": "stdout",
     "output_type": "stream",
     "text": [
      "[\n",
      "  {\n",
      "    \"song name\": \"Zara Halke Gaadi Hanko\",\n",
      "    \"genre\": [\"Folk\", \"Indian Classical\", \"Devotional\"],\n",
      "    \"mood\": [\"Spiritual\", \"Contemplative\", \"Traditional\"]\n",
      "  },\n",
      "  {\n",
      "    \"song name\": \"Somewhere Only We Know\",\n",
      "    \"genre\": [\"Piano Rock\", \"Soft Rock\", \"Ballad\"],\n",
      "    \"mood\": [\"Nostalgic\", \"Melancholic\", \"Introspective\"]\n",
      "  },\n",
      "  {\n",
      "    \"song name\": \"Iris\",\n",
      "    \"genre\": [\"Alternative Rock\", \"Post-Grunge\", \"Power Ballad\"],\n",
      "    \"mood\": [\"Melancholic\", \"Romantic\", \"Longing\"]\n",
      "  },\n",
      "  {\n",
      "    \"song name\": \"Ordinary\",\n",
      "    \"genre\": [\"Singer-Songwriter\", \"Acoustic Pop\", \"Mellow\"],\n",
      "    \"mood\": [\"Introspective\", \"Emotional\", \"Vulnerable\"]\n",
      "  },\n",
      "  {\n",
      "    \"song name\": \"Risk\",\n",
      "    \"genre\": [\"Indie Pop\", \"Electro Pop\", \"Moody\"],\n",
      "    \"mood\": [\"Anxious\", \"Turmoil\", \"Introspective\"]\n",
      "  },\n",
      "  {\n",
      "    \"song name\": \"Tainu Khabar Nahi - From 'Munjya'\",\n",
      "    \"genre\": [\"Bollywood\", \"Indian Pop\", \"Romantic\"],\n",
      "    \"mood\": [\"Longing\", \"Yearning\", \"Sensual\"]\n",
      "  },\n",
      "  {\n",
      "    \"song name\": \"Tainu Khabar Nahi - From 'Munjya'\",\n",
      "    \"genre\": [\"Bollywood\", \"Indian Pop\", \"Romantic\"],\n",
      "    \"mood\": [\"Longing\", \"Yearning\", \"Sensual\"]\n",
      "  },\n",
      "  {\n",
      "    \"song name\": \"Lost Memory\",\n",
      "    \"genre\": [\"Electronic\", \"Dance\", \"Trance\"],\n",
      "    \"mood\": [\"Euphoric\", \"Nostalgic\", \"Dreamy\"]\n",
      "  },\n",
      "  {\n",
      "    \"song name\": \"Water - Remix\",\n",
      "    \"genre\": [\"Hip-Hop\", \"Trap\", \"Remix\"],\n",
      "    \"mood\": [\"Energetic\", \"Confident\", \"Sensual\"]\n",
      "  },\n",
      "  {\n",
      "    \"song name\": \"Last Christmas\",\n",
      "    \"genre\": [\"Pop\", \"Christmas\", \"80s\"],\n",
      "    \"mood\": [\"Nostalgic\", \"Cheerful\", \"Romantic\"]\n",
      "  }\n",
      "]\n"
     ]
    }
   ],
   "source": [
    "print(response.choices[0].message.content)"
   ]
  },
  {
   "cell_type": "code",
   "execution_count": 19,
   "id": "009607a2",
   "metadata": {},
   "outputs": [],
   "source": [
    "import json\n",
    "\n",
    "response_json = json.loads(response.choices[0].message.content)"
   ]
  },
  {
   "cell_type": "code",
   "execution_count": 20,
   "id": "322233e0",
   "metadata": {},
   "outputs": [
    {
     "name": "stdout",
     "output_type": "stream",
     "text": [
      "[{'song name': 'Zara Halke Gaadi Hanko', 'genre': ['Folk', 'Indian Classical', 'Devotional'], 'mood': ['Spiritual', 'Contemplative', 'Traditional']}, {'song name': 'Somewhere Only We Know', 'genre': ['Piano Rock', 'Soft Rock', 'Ballad'], 'mood': ['Nostalgic', 'Melancholic', 'Introspective']}, {'song name': 'Iris', 'genre': ['Alternative Rock', 'Post-Grunge', 'Power Ballad'], 'mood': ['Melancholic', 'Romantic', 'Longing']}, {'song name': 'Ordinary', 'genre': ['Singer-Songwriter', 'Acoustic Pop', 'Mellow'], 'mood': ['Introspective', 'Emotional', 'Vulnerable']}, {'song name': 'Risk', 'genre': ['Indie Pop', 'Electro Pop', 'Moody'], 'mood': ['Anxious', 'Turmoil', 'Introspective']}, {'song name': \"Tainu Khabar Nahi - From 'Munjya'\", 'genre': ['Bollywood', 'Indian Pop', 'Romantic'], 'mood': ['Longing', 'Yearning', 'Sensual']}, {'song name': \"Tainu Khabar Nahi - From 'Munjya'\", 'genre': ['Bollywood', 'Indian Pop', 'Romantic'], 'mood': ['Longing', 'Yearning', 'Sensual']}, {'song name': 'Lost Memory', 'genre': ['Electronic', 'Dance', 'Trance'], 'mood': ['Euphoric', 'Nostalgic', 'Dreamy']}, {'song name': 'Water - Remix', 'genre': ['Hip-Hop', 'Trap', 'Remix'], 'mood': ['Energetic', 'Confident', 'Sensual']}, {'song name': 'Last Christmas', 'genre': ['Pop', 'Christmas', '80s'], 'mood': ['Nostalgic', 'Cheerful', 'Romantic']}]\n"
     ]
    }
   ],
   "source": [
    "print(response_json)"
   ]
  },
  {
   "cell_type": "code",
   "execution_count": 21,
   "id": "c29da1b5",
   "metadata": {},
   "outputs": [
    {
     "name": "stdout",
     "output_type": "stream",
     "text": [
      "Weighted mood distribution:\n",
      "spiritual: 0.2567\n",
      "contemplative: 0.2567\n",
      "traditional: 0.2567\n",
      "melancholic: 0.0500\n",
      "introspective: 0.0406\n",
      "longing: 0.0329\n",
      "nostalgic: 0.0271\n",
      "romantic: 0.0260\n",
      "sensual: 0.0089\n",
      "emotional: 0.0083\n",
      "vulnerable: 0.0083\n",
      "yearning: 0.0079\n",
      "anxious: 0.0073\n",
      "turmoil: 0.0073\n",
      "euphoric: 0.0010\n",
      "dreamy: 0.0010\n",
      "energetic: 0.0010\n",
      "confident: 0.0010\n",
      "cheerful: 0.0010\n"
     ]
    }
   ],
   "source": [
    "from collections import defaultdict\n",
    "\n",
    "mood_weights = defaultdict(float)\n",
    "\n",
    "for i, song in enumerate(response_json):\n",
    "    for mood in song['mood']:\n",
    "        mood_weights[mood.lower()] += weights[i]\n",
    "\n",
    "# Normalize again (for relative proportions)\n",
    "total = sum(mood_weights.values())\n",
    "normalized_moods = {m: w / total for m, w in mood_weights.items()}\n",
    "\n",
    "# Sort to get top weighted moods\n",
    "top_moods = sorted(normalized_moods.items(), key=lambda x: x[1], reverse=True)\n",
    "\n",
    "print(\"Weighted mood distribution:\")\n",
    "for mood, weight in top_moods:\n",
    "    print(f\"{mood}: {weight:.4f}\")"
   ]
  },
  {
   "cell_type": "code",
   "execution_count": 22,
   "id": "21e94319",
   "metadata": {},
   "outputs": [],
   "source": [
    "top_moods_to_use_for_recommendations = sorted(normalized_moods.items(), key=lambda x: x[1], reverse=True)[:10]"
   ]
  },
  {
   "cell_type": "code",
   "execution_count": 23,
   "id": "bf6f30e1",
   "metadata": {},
   "outputs": [
    {
     "name": "stdout",
     "output_type": "stream",
     "text": [
      "[('spiritual', 0.2567382974001891), ('contemplative', 0.2567382974001891), ('traditional', 0.2567382974001891), ('melancholic', 0.05004282216706264), ('introspective', 0.0406466410718697), ('longing', 0.03289454104397908), ('nostalgic', 0.0271050151938483), ('romantic', 0.025984812590848647), ('sensual', 0.008930151398322931), ('emotional', 0.008320238650989421)]\n"
     ]
    }
   ],
   "source": [
    "print(top_moods_to_use_for_recommendations)"
   ]
  },
  {
   "cell_type": "code",
   "execution_count": 24,
   "id": "5265e66f",
   "metadata": {},
   "outputs": [],
   "source": [
    "mood_context = \", \".join([m for m, _ in top_moods_to_use_for_recommendations])"
   ]
  },
  {
   "cell_type": "code",
   "execution_count": 25,
   "id": "0c151307",
   "metadata": {},
   "outputs": [
    {
     "name": "stdout",
     "output_type": "stream",
     "text": [
      "spiritual, contemplative, traditional, melancholic, introspective, longing, nostalgic, romantic, sensual, emotional\n"
     ]
    }
   ],
   "source": [
    "print(mood_context)"
   ]
  },
  {
   "cell_type": "code",
   "execution_count": null,
   "id": "563dd628",
   "metadata": {},
   "outputs": [],
   "source": []
  }
 ],
 "metadata": {
  "kernelspec": {
   "display_name": "Python 3",
   "language": "python",
   "name": "python3"
  },
  "language_info": {
   "codemirror_mode": {
    "name": "ipython",
    "version": 3
   },
   "file_extension": ".py",
   "mimetype": "text/x-python",
   "name": "python",
   "nbconvert_exporter": "python",
   "pygments_lexer": "ipython3",
   "version": "3.12.6"
  }
 },
 "nbformat": 4,
 "nbformat_minor": 5
}
