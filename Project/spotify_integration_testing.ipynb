{
 "cells": [
  {
   "cell_type": "code",
   "execution_count": null,
   "id": "c5b995c8",
   "metadata": {},
   "outputs": [],
   "source": [
    "# pip install ipykernel"
   ]
  },
  {
   "cell_type": "code",
   "execution_count": 1,
   "id": "135f44d6",
   "metadata": {},
   "outputs": [
    {
     "data": {
      "text/plain": [
       "True"
      ]
     },
     "execution_count": 1,
     "metadata": {},
     "output_type": "execute_result"
    }
   ],
   "source": [
    "import spotipy\n",
    "import requests\n",
    "import os\n",
    "from urllib.parse import urlencode\n",
    "from dotenv import load_dotenv\n",
    "\n",
    "load_dotenv()\n"
   ]
  },
  {
   "cell_type": "code",
   "execution_count": 2,
   "id": "8cabbd44",
   "metadata": {},
   "outputs": [],
   "source": [
    "SPOTIFY_CLIENT_ID = os.getenv(\"SPOTIFY_CLIENT_ID\")\n",
    "SPOTIFY_CLIENT_SECRET = os.getenv(\"SPOTIFY_CLIENT_SECRET\")\n",
    "SPOTIFY_REDIRECT_URI = os.getenv(\"SPOTIFY_REDIRECT_URI\")\n",
    "SPOTIFY_SCOPES = os.getenv(\"SPOTIFY_SCOPES\")\n",
    "\n"
   ]
  },
  {
   "cell_type": "code",
   "execution_count": 3,
   "id": "1d8e6d93",
   "metadata": {},
   "outputs": [
    {
     "name": "stdout",
     "output_type": "stream",
     "text": [
      "{'display_name': 'draqa', 'external_urls': {'spotify': 'https://open.spotify.com/user/31zkynjlgmywa25xynvjao7vtcse'}, 'followers': {'href': None, 'total': 1}, 'href': 'https://api.spotify.com/v1/users/31zkynjlgmywa25xynvjao7vtcse', 'id': '31zkynjlgmywa25xynvjao7vtcse', 'images': [], 'type': 'user', 'uri': 'spotify:user:31zkynjlgmywa25xynvjao7vtcse'}\n"
     ]
    }
   ],
   "source": [
    "import spotipy\n",
    "from spotipy.oauth2 import SpotifyOAuth\n",
    "\n",
    "\n",
    "\n",
    "# Set up Spotify OAuth\n",
    "sp = spotipy.Spotify(auth_manager=SpotifyOAuth(\n",
    "    client_id= SPOTIFY_CLIENT_ID,\n",
    "    client_secret=SPOTIFY_CLIENT_SECRET,\n",
    "    redirect_uri=SPOTIFY_REDIRECT_URI,\n",
    "    scope=SPOTIFY_SCOPES,\n",
    "    show_dialog=True  # <-- ensures login window shows even if token exists\n",
    "))\n",
    "\n",
    "# Get current user's info (for testing)\n",
    "user = sp.current_user()\n",
    "print(user)\n"
   ]
  },
  {
   "cell_type": "markdown",
   "id": "bd83df8f",
   "metadata": {},
   "source": [
    "# Top tracks"
   ]
  },
  {
   "cell_type": "code",
   "execution_count": 4,
   "id": "e08b8924",
   "metadata": {},
   "outputs": [
    {
     "name": "stdout",
     "output_type": "stream",
     "text": [
      "1. Savariya Parnaye by Divana\n",
      "2. Ham Tere Pyar Mein by Lata Mangeshkar\n",
      "3. HEAVEN AND BACK by Chase Atlantic\n",
      "4. Tadpaoge Tadpa Lo by Lata Mangeshkar\n",
      "5. Zara Halke Gaadi Hanko by Prahlad Singh Tipaniya\n",
      "6. FACEDOWN by Chase Atlantic\n",
      "7. Jhol - Acoustic by Maanu\n",
      "8. Let It Happen by Tame Impala\n",
      "9. Mevadna Maharajane Khamma Re Khamma by Hemant Chauhan\n",
      "10. K. by Cigarettes After Sex\n",
      "11. Tere Liye by Atif Aslam\n",
      "12. Tujh Ko Dariya Dil Ki Kasam by Jagjit Singh\n",
      "13. Jai Aadhyashakti by Chintan Trivedi\n",
      "14. RAMO RE by Jigardan Gadhavi\n",
      "15. Ram Lakshman Janki by Hemant Chauhan\n",
      "16. Darasal (From \"Raabta\") by Atif Aslam\n",
      "17. New Person, Same Old Mistakes by Tame Impala\n",
      "18. Tum Itna Jo Muskura Rahe Ho (Live) by Jagjit Singh\n",
      "19. Friends by Chase Atlantic\n",
      "20. Assumptions by Sam Gellaitry\n"
     ]
    }
   ],
   "source": [
    "# Get the user's top tracks\n",
    "top_tracks = sp.current_user_top_tracks(limit=20, offset=0, time_range='medium_term')\n",
    "for idx, track in enumerate(top_tracks['items']):\n",
    "    print(f\"{idx + 1}. {track['name']} by {track['artists'][0]['name']}\")\n"
   ]
  },
  {
   "cell_type": "code",
   "execution_count": 5,
   "id": "980fd7da",
   "metadata": {},
   "outputs": [
    {
     "name": "stdout",
     "output_type": "stream",
     "text": [
      "1. Savariya Parnaye — Divana\n",
      "2. Savariya Parnaye — Divana\n",
      "3. Savariya Parnaye — Divana\n",
      "4. Savariya Parnaye — Divana\n",
      "5. Jawani Jan-E-Man — Asha Bhosle\n",
      "6. Jawani Jan-E-Man — Asha Bhosle\n",
      "7. Jawani Jan-E-Man — Asha Bhosle\n",
      "8. Jawani Jan-E-Man — Asha Bhosle\n",
      "9. Jawani Jan-E-Man — Asha Bhosle\n",
      "10. Jawani Jan-E-Man — Asha Bhosle\n"
     ]
    }
   ],
   "source": [
    "results = sp.current_user_recently_played(limit=10)\n",
    "\n",
    "# Print the track names and artists\n",
    "for idx, item in enumerate(results['items']):\n",
    "    track = item['track']\n",
    "    artist_names = \", \".join([artist['name'] for artist in track['artists']])\n",
    "    print(f\"{idx + 1}. {track['name']} — {artist_names}\")"
   ]
  },
  {
   "cell_type": "code",
   "execution_count": 6,
   "id": "a498a114",
   "metadata": {},
   "outputs": [
    {
     "name": "stdout",
     "output_type": "stream",
     "text": [
      "1. Savariya Parnaye — Divana (Played at: 2025-10-22T15:49:18.440Z)\n",
      "2. Savariya Parnaye — Divana (Played at: 2025-10-22T15:38:11.207Z)\n",
      "3. Savariya Parnaye — Divana (Played at: 2025-10-22T15:24:58.565Z)\n",
      "4. Savariya Parnaye — Divana (Played at: 2025-10-22T14:05:09.865Z)\n",
      "5. Jawani Jan-E-Man — Asha Bhosle (Played at: 2025-10-22T06:53:27.069Z)\n",
      "6. Jawani Jan-E-Man — Asha Bhosle (Played at: 2025-10-22T06:50:18.760Z)\n",
      "7. Jawani Jan-E-Man — Asha Bhosle (Played at: 2025-10-22T06:47:28.841Z)\n",
      "8. Jawani Jan-E-Man — Asha Bhosle (Played at: 2025-10-22T06:38:57.887Z)\n",
      "9. Jawani Jan-E-Man — Asha Bhosle (Played at: 2025-10-22T06:31:01.743Z)\n",
      "10. Jawani Jan-E-Man — Asha Bhosle (Played at: 2025-10-22T03:57:41.544Z)\n"
     ]
    }
   ],
   "source": [
    "results = sp.current_user_recently_played(limit=10)\n",
    "\n",
    "# Print the track names, artists, and when it was played\n",
    "for idx, item in enumerate(results['items']):\n",
    "    track = item['track']\n",
    "    artist_names = \", \".join([artist['name'] for artist in track['artists']])\n",
    "    played_at = item['played_at']  # This gives ISO 8601 UTC timestamp\n",
    "    print(f\"{idx + 1}. {track['name']} — {artist_names} (Played at: {played_at})\")\n"
   ]
  },
  {
   "cell_type": "code",
   "execution_count": 7,
   "id": "0fafdb0d",
   "metadata": {},
   "outputs": [
    {
     "name": "stdout",
     "output_type": "stream",
     "text": [
      "1. Savariya Parnaye — Divana (Played at: 2025-10-22 11:49:18)\n",
      "2. Savariya Parnaye — Divana (Played at: 2025-10-22 11:38:11)\n",
      "3. Savariya Parnaye — Divana (Played at: 2025-10-22 11:24:58)\n",
      "4. Savariya Parnaye — Divana (Played at: 2025-10-22 10:05:09)\n",
      "5. Jawani Jan-E-Man — Asha Bhosle (Played at: 2025-10-22 02:53:27)\n",
      "6. Jawani Jan-E-Man — Asha Bhosle (Played at: 2025-10-22 02:50:18)\n",
      "7. Jawani Jan-E-Man — Asha Bhosle (Played at: 2025-10-22 02:47:28)\n",
      "8. Jawani Jan-E-Man — Asha Bhosle (Played at: 2025-10-22 02:38:57)\n",
      "9. Jawani Jan-E-Man — Asha Bhosle (Played at: 2025-10-22 02:31:01)\n",
      "10. Jawani Jan-E-Man — Asha Bhosle (Played at: 2025-10-21 23:57:41)\n"
     ]
    }
   ],
   "source": [
    "from datetime import datetime, timezone\n",
    "\n",
    "items_dict = {}\n",
    "for idx, item in enumerate(results['items']):\n",
    "    track = item['track']\n",
    "    artist_names = \", \".join([artist['name'] for artist in track['artists']])\n",
    "    played_at_utc = datetime.fromisoformat(item['played_at'].replace('Z', '+00:00'))\n",
    "    played_at_local = played_at_utc.astimezone()  # Converts to local timezone\n",
    "    print(f\"{idx + 1}. {track['name']} — {artist_names} (Played at: {played_at_local.strftime('%Y-%m-%d %H:%M:%S')})\")\n",
    "    time_stamp = played_at_local.timestamp()\n",
    "    items_dict[idx + 1] = {\n",
    "        'track_name': track['name'],\n",
    "        'artist_names': artist_names,\n",
    "        'played_at': played_at_local.strftime('%Y-%m-%d %H:%M:%S'),\n",
    "        'time_stamp': time_stamp\n",
    "    }\n"
   ]
  },
  {
   "cell_type": "code",
   "execution_count": 8,
   "id": "b1401207",
   "metadata": {},
   "outputs": [],
   "source": [
    "times = [v['time_stamp'] for v in items_dict.values()]\n",
    "most_recent = max(times)\n",
    "deltas = [(most_recent - t) / 60 for t in times]  # minutes difference\n"
   ]
  },
  {
   "cell_type": "code",
   "execution_count": 9,
   "id": "79bc8cce",
   "metadata": {},
   "outputs": [
    {
     "name": "stdout",
     "output_type": "stream",
     "text": [
      "[0.0, 11.120550000667572, 24.33125, 104.14291666746139, 535.8561833341917, 538.9946666677793, 541.8266499996186, 550.342549999555, 558.2782833337784, 711.6149333357811]\n"
     ]
    }
   ],
   "source": [
    "print(deltas)"
   ]
  },
  {
   "cell_type": "code",
   "execution_count": 10,
   "id": "14375860",
   "metadata": {},
   "outputs": [
    {
     "name": "stdout",
     "output_type": "stream",
     "text": [
      "[1.0, 0.08250450680414026, 0.03947693066864051, 0.009510864180824748, 0.0018626962509575911, 0.001851870141923512, 0.0018422087419633923, 0.001813754443586491, 0.0017880186479602642, 0.0014032824085217484]\n"
     ]
    }
   ],
   "source": [
    "weights = [1 / (1 + d) for d in deltas]\n",
    "\n",
    "print(weights)"
   ]
  },
  {
   "cell_type": "code",
   "execution_count": 11,
   "id": "c527afbd",
   "metadata": {},
   "outputs": [
    {
     "name": "stdout",
     "output_type": "stream",
     "text": [
      "[1.00000000e+00 8.30819679e-01 6.66629518e-01 1.76274070e-01\n",
      " 1.32234144e-04 1.25495025e-04 1.19709310e-04 1.03869440e-04\n",
      " 9.10011826e-05 7.06576767e-06]\n"
     ]
    }
   ],
   "source": [
    "import numpy as np\n",
    "\n",
    "tau = 60\n",
    "\n",
    "weights_exp = np.exp(-np.array(deltas) / tau)\n",
    "\n",
    "print(weights_exp)"
   ]
  },
  {
   "cell_type": "code",
   "execution_count": 12,
   "id": "c7c905a2",
   "metadata": {},
   "outputs": [],
   "source": [
    "weights = weights / np.sum(weights)\n",
    "weights_exp = weights_exp / np.sum(weights_exp)"
   ]
  },
  {
   "cell_type": "code",
   "execution_count": 13,
   "id": "438c56df",
   "metadata": {},
   "outputs": [
    {
     "name": "stdout",
     "output_type": "stream",
     "text": [
      "[0.87561524 0.0722422  0.0345666  0.00832786 0.00163101 0.00162153\n",
      " 0.00161307 0.00158815 0.00156562 0.00122874]\n"
     ]
    }
   ],
   "source": [
    "print(weights)"
   ]
  },
  {
   "cell_type": "code",
   "execution_count": 14,
   "id": "0e235c44",
   "metadata": {},
   "outputs": [],
   "source": [
    "# !pip install groq"
   ]
  },
  {
   "cell_type": "code",
   "execution_count": 15,
   "id": "e562b296",
   "metadata": {},
   "outputs": [],
   "source": [
    "from groq import AsyncGroq\n",
    "import os\n",
    "from dotenv import load_dotenv\n",
    "\n",
    "load_dotenv()\n",
    "\n",
    "GROQ_API_KEY = os.getenv(\"GROQ_API_KEY\")   \n",
    "\n",
    "\n",
    "client = AsyncGroq(\n",
    "    api_key=GROQ_API_KEY,\n",
    ")"
   ]
  },
  {
   "cell_type": "code",
   "execution_count": 16,
   "id": "02e3a5ee",
   "metadata": {},
   "outputs": [],
   "source": [
    "system_prompt = f\"\"\"\n",
    "You are an intelligent model that classifies both the music genre and the listener’s mood\n",
    "based on multiple songs provided together.\n",
    "\n",
    "The user prompt will be a JSON list containing up to 10 song objects in this format:\n",
    "[\n",
    "  {{\n",
    "    \"song name\": \"\",\n",
    "    \"artist/s\": [],\n",
    "    \"Album\": \"\"\n",
    "  }},\n",
    "  ...\n",
    "]\n",
    "\n",
    "Your task:\n",
    "1. Analyze all songs jointly to understand the listener's overall context.\n",
    "2. For each song, infer its most relevant specific genres and moods.\n",
    "3. Avoid broad or generic genre labels like \"pop\", \"rock\", \"indie\" unless strongly justified by the artist or song identity.\n",
    "4. Use precise subgenres or stylistic tags whenever possible (e.g., \"synthpop\", \"folk rock\", \"trap\", \"R&B soul\").\n",
    "\n",
    "Generate output strictly in this JSON format:\n",
    "[\n",
    "  {{\n",
    "    \"song name\": \"\",\n",
    "    \"genre\": [<up to 5 accurate genre tags>],\n",
    "    \"mood\": [<up to 5 accurate mood tags>]\n",
    "  }},\n",
    "  ...\n",
    "]\n",
    "\n",
    "IMPORTANT INSTRUCTIONS:\n",
    "- Do not enclose it in PYTHON or JSON syntax blocks.\n",
    "- Do not include explanations or commentary.\n",
    "- Output must be valid JSON only.\n",
    "\"\"\"\n"
   ]
  },
  {
   "cell_type": "code",
   "execution_count": 17,
   "id": "5bf090bb",
   "metadata": {},
   "outputs": [],
   "source": [
    "response = await client.chat.completions.create(\n",
    "    messages=[\n",
    "        {\n",
    "            \"role\": \"system\",\n",
    "            \"content\": system_prompt,\n",
    "        },\n",
    "        {\n",
    "            \"role\": \"user\",\n",
    "            \"content\": str(items_dict.values()),\n",
    "        },\n",
    "    ],\n",
    "    model=\"llama-3.3-70b-versatile\",\n",
    "    temperature=0.5\n",
    ")"
   ]
  },
  {
   "cell_type": "code",
   "execution_count": 18,
   "id": "d2c24ce8",
   "metadata": {},
   "outputs": [
    {
     "name": "stdout",
     "output_type": "stream",
     "text": [
      "[\n",
      "  {\n",
      "    \"song name\": \"Savariya Parnaye\",\n",
      "    \"genre\": [\"Bollywood\", \"Filmi\", \"Indian Classical\", \"Ghazal\", \"Sufi\"],\n",
      "    \"mood\": [\"Romantic\", \"Melancholic\", \"Soulful\", \"Introspective\", \"Emotional\"]\n",
      "  },\n",
      "  {\n",
      "    \"song name\": \"Jawani Jan-E-Man\",\n",
      "    \"genre\": [\"Bollywood\", \"Classic Bollywood\", \"Indian Film Music\", \"Vintage Hindi\", \"Retro\"],\n",
      "    \"mood\": [\"Nostalgic\", \"Timeless\", \"Elegant\", \"Sophisticated\", \"Retro\"]\n",
      "  }\n",
      "]\n"
     ]
    }
   ],
   "source": [
    "print(response.choices[0].message.content)"
   ]
  },
  {
   "cell_type": "code",
   "execution_count": 19,
   "id": "009607a2",
   "metadata": {},
   "outputs": [],
   "source": [
    "import json\n",
    "\n",
    "response_json = json.loads(response.choices[0].message.content)"
   ]
  },
  {
   "cell_type": "code",
   "execution_count": 20,
   "id": "322233e0",
   "metadata": {},
   "outputs": [
    {
     "name": "stdout",
     "output_type": "stream",
     "text": [
      "[{'song name': 'Savariya Parnaye', 'genre': ['Bollywood', 'Filmi', 'Indian Classical', 'Ghazal', 'Sufi'], 'mood': ['Romantic', 'Melancholic', 'Soulful', 'Introspective', 'Emotional']}, {'song name': 'Jawani Jan-E-Man', 'genre': ['Bollywood', 'Classic Bollywood', 'Indian Film Music', 'Vintage Hindi', 'Retro'], 'mood': ['Nostalgic', 'Timeless', 'Elegant', 'Sophisticated', 'Retro']}]\n"
     ]
    }
   ],
   "source": [
    "print(response_json)"
   ]
  },
  {
   "cell_type": "code",
   "execution_count": 21,
   "id": "c29da1b5",
   "metadata": {},
   "outputs": [
    {
     "name": "stdout",
     "output_type": "stream",
     "text": [
      "Weighted mood distribution:\n",
      "romantic: 0.1848\n",
      "melancholic: 0.1848\n",
      "soulful: 0.1848\n",
      "introspective: 0.1848\n",
      "emotional: 0.1848\n",
      "nostalgic: 0.0152\n",
      "timeless: 0.0152\n",
      "elegant: 0.0152\n",
      "sophisticated: 0.0152\n",
      "retro: 0.0152\n"
     ]
    }
   ],
   "source": [
    "from collections import defaultdict\n",
    "\n",
    "mood_weights = defaultdict(float)\n",
    "\n",
    "for i, song in enumerate(response_json):\n",
    "    for mood in song['mood']:\n",
    "        mood_weights[mood.lower()] += weights[i]\n",
    "\n",
    "# Normalize again (for relative proportions)\n",
    "total = sum(mood_weights.values())\n",
    "normalized_moods = {m: w / total for m, w in mood_weights.items()}\n",
    "\n",
    "# Sort to get top weighted moods\n",
    "top_moods = sorted(normalized_moods.items(), key=lambda x: x[1], reverse=True)\n",
    "\n",
    "print(\"Weighted mood distribution:\")\n",
    "for mood, weight in top_moods:\n",
    "    print(f\"{mood}: {weight:.4f}\")"
   ]
  },
  {
   "cell_type": "code",
   "execution_count": 22,
   "id": "21e94319",
   "metadata": {},
   "outputs": [],
   "source": [
    "top_moods_to_use_for_recommendations = sorted(normalized_moods.items(), key=lambda x: x[1], reverse=True)[:10]"
   ]
  },
  {
   "cell_type": "code",
   "execution_count": 23,
   "id": "bf6f30e1",
   "metadata": {},
   "outputs": [
    {
     "name": "stdout",
     "output_type": "stream",
     "text": [
      "[('romantic', 0.18475673657050787), ('melancholic', 0.18475673657050787), ('soulful', 0.18475673657050787), ('introspective', 0.18475673657050787), ('emotional', 0.18475673657050787), ('nostalgic', 0.015243263429492216), ('timeless', 0.015243263429492216), ('elegant', 0.015243263429492216), ('sophisticated', 0.015243263429492216), ('retro', 0.015243263429492216)]\n"
     ]
    }
   ],
   "source": [
    "print(top_moods_to_use_for_recommendations)"
   ]
  },
  {
   "cell_type": "code",
   "execution_count": 24,
   "id": "5265e66f",
   "metadata": {},
   "outputs": [],
   "source": [
    "mood_context = \", \".join([m for m, _ in top_moods_to_use_for_recommendations])"
   ]
  },
  {
   "cell_type": "code",
   "execution_count": 25,
   "id": "0c151307",
   "metadata": {},
   "outputs": [
    {
     "name": "stdout",
     "output_type": "stream",
     "text": [
      "romantic, melancholic, soulful, introspective, emotional, nostalgic, timeless, elegant, sophisticated, retro\n"
     ]
    }
   ],
   "source": [
    "print(mood_context)"
   ]
  },
  {
   "cell_type": "code",
   "execution_count": 26,
   "id": "563dd628",
   "metadata": {},
   "outputs": [],
   "source": [
    "# option to select from vegetarian, non-vegetarian, vegan, no preference, etc.\n",
    "v = \"vegetarian\"\n",
    "preference = [v]"
   ]
  },
  {
   "cell_type": "code",
   "execution_count": 28,
   "id": "681b586b",
   "metadata": {},
   "outputs": [],
   "source": [
    "system_prompt_food_rec = f\"\"\"\n",
    "You are an intelligent Food Recommender Agent that recommends food by the moods and the preferences of the user.\n",
    "\n",
    "You will be given user's idenfiied moods based on its normalized weights. Also, You will be given user's preferences.\n",
    "\n",
    "Input format:\n",
    "{{\n",
    "moods: [<list of tuples in (mood, normalized weight) format>],\n",
    "food_preference: [],\n",
    "other_preferences: []\n",
    "}}\n",
    "\n",
    "Output:\n",
    "{{\n",
    "Suggested_food: [<list of 10 recommended food based on preferences>]\n",
    "}}\n",
    "\n",
    "IMPORTANT INSTRUCTIONS:\n",
    "- DO NOT ADD ANY OTHER EXPLANATION.\n",
    "- ONLY RETURN OUTPUT IN THE SPECIFIED FORMAT.\n",
    "- DO NOT ENCLOSE IT IN ``` python .... ``` OR ```json...```.\n",
    " \"\"\"\n",
    "\n",
    "\n",
    "user_prompt_food_rec = f\"\"\"\n",
    "moods: {top_moods_to_use_for_recommendations}\n",
    "food_preference: {preference}\n",
    "other_preferences: []\n",
    "\"\"\"\n"
   ]
  },
  {
   "cell_type": "code",
   "execution_count": 31,
   "id": "df299b4d",
   "metadata": {},
   "outputs": [],
   "source": [
    "response_food_rec = await client.chat.completions.create(\n",
    "    messages=[\n",
    "        {\n",
    "            \"role\": \"system\",\n",
    "            \"content\": system_prompt_food_rec,\n",
    "        },\n",
    "        {\n",
    "            \"role\": \"user\",\n",
    "            \"content\": user_prompt_food_rec,\n",
    "        },\n",
    "    ],\n",
    "    model=\"llama-3.3-70b-versatile\",\n",
    "    temperature=0.5\n",
    ")\n"
   ]
  },
  {
   "cell_type": "code",
   "execution_count": 32,
   "id": "6dafbd85",
   "metadata": {},
   "outputs": [
    {
     "name": "stdout",
     "output_type": "stream",
     "text": [
      "{\n",
      "Suggested_food: ['Stuffed Portobello Mushrooms', 'Vegetable Quiche', 'Grilled Eggplant Parmesan', 'Lentil Soup', 'Roasted Vegetable Tart', 'Spinach and Artichoke Stuffed Bell Peppers', 'Vegetable Curry', 'Quinoa Salad Bowl', 'Grilled Vegetable Skewers', 'Eggplant Lasagna']\n",
      "}\n"
     ]
    }
   ],
   "source": [
    "print(response_food_rec.choices[0].message.content)"
   ]
  },
  {
   "cell_type": "code",
   "execution_count": null,
   "id": "84d92381",
   "metadata": {},
   "outputs": [],
   "source": []
  }
 ],
 "metadata": {
  "kernelspec": {
   "display_name": "Python 3",
   "language": "python",
   "name": "python3"
  },
  "language_info": {
   "codemirror_mode": {
    "name": "ipython",
    "version": 3
   },
   "file_extension": ".py",
   "mimetype": "text/x-python",
   "name": "python",
   "nbconvert_exporter": "python",
   "pygments_lexer": "ipython3",
   "version": "3.12.6"
  }
 },
 "nbformat": 4,
 "nbformat_minor": 5
}
