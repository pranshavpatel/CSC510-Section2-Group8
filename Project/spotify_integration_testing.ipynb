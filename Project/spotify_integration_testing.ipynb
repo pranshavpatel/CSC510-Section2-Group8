{
 "cells": [
  {
   "cell_type": "code",
   "execution_count": null,
   "id": "c5b995c8",
   "metadata": {},
   "outputs": [],
   "source": [
    "# pip install ipykernel"
   ]
  },
  {
   "cell_type": "code",
   "execution_count": 1,
   "id": "135f44d6",
   "metadata": {},
   "outputs": [
    {
     "data": {
      "text/plain": [
       "True"
      ]
     },
     "execution_count": 1,
     "metadata": {},
     "output_type": "execute_result"
    }
   ],
   "source": [
    "import spotipy\n",
    "import requests\n",
    "import os\n",
    "from urllib.parse import urlencode\n",
    "from dotenv import load_dotenv\n",
    "\n",
    "load_dotenv()\n"
   ]
  },
  {
   "cell_type": "code",
   "execution_count": 2,
   "id": "8cabbd44",
   "metadata": {},
   "outputs": [],
   "source": [
    "SPOTIFY_CLIENT_ID = os.getenv(\"SPOTIFY_CLIENT_ID\")\n",
    "SPOTIFY_CLIENT_SECRET = os.getenv(\"SPOTIFY_CLIENT_SECRET\")\n",
    "SPOTIFY_REDIRECT_URI = os.getenv(\"SPOTIFY_REDIRECT_URI\")\n",
    "SPOTIFY_SCOPES = os.getenv(\"SPOTIFY_SCOPES\")\n",
    "\n"
   ]
  },
  {
   "cell_type": "code",
   "execution_count": 3,
   "id": "1d8e6d93",
   "metadata": {},
   "outputs": [
    {
     "name": "stdout",
     "output_type": "stream",
     "text": [
      "{'display_name': 'draqa', 'external_urls': {'spotify': 'https://open.spotify.com/user/31zkynjlgmywa25xynvjao7vtcse'}, 'followers': {'href': None, 'total': 1}, 'href': 'https://api.spotify.com/v1/users/31zkynjlgmywa25xynvjao7vtcse', 'id': '31zkynjlgmywa25xynvjao7vtcse', 'images': [], 'type': 'user', 'uri': 'spotify:user:31zkynjlgmywa25xynvjao7vtcse'}\n"
     ]
    }
   ],
   "source": [
    "import spotipy\n",
    "from spotipy.oauth2 import SpotifyOAuth\n",
    "\n",
    "\n",
    "\n",
    "# Set up Spotify OAuth\n",
    "sp = spotipy.Spotify(auth_manager=SpotifyOAuth(\n",
    "    client_id= SPOTIFY_CLIENT_ID,\n",
    "    client_secret=SPOTIFY_CLIENT_SECRET,\n",
    "    redirect_uri=SPOTIFY_REDIRECT_URI,\n",
    "    scope=SPOTIFY_SCOPES,\n",
    "    show_dialog=True  # <-- ensures login window shows even if token exists\n",
    "))\n",
    "\n",
    "# Get current user's info (for testing)\n",
    "user = sp.current_user()\n",
    "print(user)\n"
   ]
  },
  {
   "cell_type": "markdown",
   "id": "bd83df8f",
   "metadata": {},
   "source": [
    "# Top tracks"
   ]
  },
  {
   "cell_type": "code",
   "execution_count": 4,
   "id": "e08b8924",
   "metadata": {},
   "outputs": [
    {
     "name": "stdout",
     "output_type": "stream",
     "text": [
      "1. Savariya Parnaye by Divana\n",
      "2. HEAVEN AND BACK by Chase Atlantic\n",
      "3. Ham Tere Pyar Mein by Lata Mangeshkar\n",
      "4. Tadpaoge Tadpa Lo by Lata Mangeshkar\n",
      "5. Zara Halke Gaadi Hanko by Prahlad Singh Tipaniya\n",
      "6. FACEDOWN by Chase Atlantic\n",
      "7. Let It Happen by Tame Impala\n",
      "8. Jhol - Acoustic by Maanu\n",
      "9. Mevadna Maharajane Khamma Re Khamma by Hemant Chauhan\n",
      "10. back to friends by sombr\n",
      "11. K. by Cigarettes After Sex\n",
      "12. Tere Liye by Atif Aslam\n",
      "13. Tujh Ko Dariya Dil Ki Kasam by Jagjit Singh\n",
      "14. Jai Aadhyashakti by Chintan Trivedi\n",
      "15. Jawani Jan-E-Man by Asha Bhosle\n",
      "16. RAMO RE by Jigardan Gadhavi\n",
      "17. Darasal (From \"Raabta\") by Atif Aslam\n",
      "18. New Person, Same Old Mistakes by Tame Impala\n",
      "19. Tum Itna Jo Muskura Rahe Ho (Live) by Jagjit Singh\n",
      "20. Assumptions by Sam Gellaitry\n"
     ]
    }
   ],
   "source": [
    "# Get the user's top tracks\n",
    "top_tracks = sp.current_user_top_tracks(limit=20, offset=0, time_range='medium_term')\n",
    "for idx, track in enumerate(top_tracks['items']):\n",
    "    print(f\"{idx + 1}. {track['name']} by {track['artists'][0]['name']}\")\n"
   ]
  },
  {
   "cell_type": "code",
   "execution_count": 5,
   "id": "980fd7da",
   "metadata": {},
   "outputs": [
    {
     "name": "stdout",
     "output_type": "stream",
     "text": [
      "1. Shakti NonStop Garba — Jigardan Gadhavi\n",
      "2. Jawani Jan-E-Man — Asha Bhosle\n",
      "3. After Party — Don Toliver\n",
      "4. back to friends — sombr\n",
      "5. Radha Ne Kaan Kare Vaat — Aditya Gadhvi, Mir Desai\n",
      "6. Shakti NonStop Garba — Jigardan Gadhavi\n",
      "7. Up - Theme from the Motion Picture — Giampaolo Pasquile\n",
      "8. Someone To You — BANNERS\n",
      "9. Chupke Chupke Raat Din — Ghulam Ali\n",
      "10. Chupke Chupke Raat Din — Ghulam Ali\n"
     ]
    }
   ],
   "source": [
    "results = sp.current_user_recently_played(limit=10)\n",
    "\n",
    "# Print the track names and artists\n",
    "for idx, item in enumerate(results['items']):\n",
    "    track = item['track']\n",
    "    artist_names = \", \".join([artist['name'] for artist in track['artists']])\n",
    "    print(f\"{idx + 1}. {track['name']} — {artist_names}\")"
   ]
  },
  {
   "cell_type": "code",
   "execution_count": 6,
   "id": "a498a114",
   "metadata": {},
   "outputs": [
    {
     "name": "stdout",
     "output_type": "stream",
     "text": [
      "1. Shakti NonStop Garba — Jigardan Gadhavi (Played at: 2025-10-31T15:58:41.292Z)\n",
      "2. Jawani Jan-E-Man — Asha Bhosle (Played at: 2025-10-31T06:40:27.394Z)\n",
      "3. After Party — Don Toliver (Played at: 2025-10-31T04:45:19.871Z)\n",
      "4. back to friends — sombr (Played at: 2025-10-31T04:42:42.873Z)\n",
      "5. Radha Ne Kaan Kare Vaat — Aditya Gadhvi, Mir Desai (Played at: 2025-10-31T04:39:12.965Z)\n",
      "6. Shakti NonStop Garba — Jigardan Gadhavi (Played at: 2025-10-31T04:05:20.232Z)\n",
      "7. Up - Theme from the Motion Picture — Giampaolo Pasquile (Played at: 2025-10-31T03:44:59.403Z)\n",
      "8. Someone To You — BANNERS (Played at: 2025-10-30T18:56:22.016Z)\n",
      "9. Chupke Chupke Raat Din — Ghulam Ali (Played at: 2025-10-30T18:54:24.310Z)\n",
      "10. Chupke Chupke Raat Din — Ghulam Ali (Played at: 2025-10-30T17:05:40.760Z)\n"
     ]
    }
   ],
   "source": [
    "results = sp.current_user_recently_played(limit=10)\n",
    "\n",
    "# Print the track names, artists, and when it was played\n",
    "for idx, item in enumerate(results['items']):\n",
    "    track = item['track']\n",
    "    artist_names = \", \".join([artist['name'] for artist in track['artists']])\n",
    "    played_at = item['played_at']  # This gives ISO 8601 UTC timestamp\n",
    "    print(f\"{idx + 1}. {track['name']} — {artist_names} (Played at: {played_at})\")\n"
   ]
  },
  {
   "cell_type": "code",
   "execution_count": 7,
   "id": "0fafdb0d",
   "metadata": {},
   "outputs": [
    {
     "name": "stdout",
     "output_type": "stream",
     "text": [
      "1. Shakti NonStop Garba — Jigardan Gadhavi (Played at: 2025-10-31 11:58:41)\n",
      "2. Jawani Jan-E-Man — Asha Bhosle (Played at: 2025-10-31 02:40:27)\n",
      "3. After Party — Don Toliver (Played at: 2025-10-31 00:45:19)\n",
      "4. back to friends — sombr (Played at: 2025-10-31 00:42:42)\n",
      "5. Radha Ne Kaan Kare Vaat — Aditya Gadhvi, Mir Desai (Played at: 2025-10-31 00:39:12)\n",
      "6. Shakti NonStop Garba — Jigardan Gadhavi (Played at: 2025-10-31 00:05:20)\n",
      "7. Up - Theme from the Motion Picture — Giampaolo Pasquile (Played at: 2025-10-30 23:44:59)\n",
      "8. Someone To You — BANNERS (Played at: 2025-10-30 14:56:22)\n",
      "9. Chupke Chupke Raat Din — Ghulam Ali (Played at: 2025-10-30 14:54:24)\n",
      "10. Chupke Chupke Raat Din — Ghulam Ali (Played at: 2025-10-30 13:05:40)\n"
     ]
    }
   ],
   "source": [
    "from datetime import datetime, timezone\n",
    "\n",
    "items_dict = {}\n",
    "for idx, item in enumerate(results['items']):\n",
    "    track = item['track']\n",
    "    artist_names = \", \".join([artist['name'] for artist in track['artists']])\n",
    "    played_at_utc = datetime.fromisoformat(item['played_at'].replace('Z', '+00:00'))\n",
    "    played_at_local = played_at_utc.astimezone()  # Converts to local timezone\n",
    "    print(f\"{idx + 1}. {track['name']} — {artist_names} (Played at: {played_at_local.strftime('%Y-%m-%d %H:%M:%S')})\")\n",
    "    time_stamp = played_at_local.timestamp()\n",
    "    items_dict[idx + 1] = {\n",
    "        'track_name': track['name'],\n",
    "        'artist_names': artist_names,\n",
    "        'played_at': played_at_local.strftime('%Y-%m-%d %H:%M:%S'),\n",
    "        'time_stamp': time_stamp\n",
    "    }\n"
   ]
  },
  {
   "cell_type": "code",
   "execution_count": 8,
   "id": "b1401207",
   "metadata": {},
   "outputs": [],
   "source": [
    "times = [v['time_stamp'] for v in items_dict.values()]\n",
    "most_recent = max(times)\n",
    "deltas = [(most_recent - t) / 60 for t in times]  # minutes difference\n"
   ]
  },
  {
   "cell_type": "code",
   "execution_count": 9,
   "id": "79bc8cce",
   "metadata": {},
   "outputs": [
    {
     "name": "stdout",
     "output_type": "stream",
     "text": [
      "[0.0, 558.2316333333652, 673.3570166667303, 675.9736500024795, 679.4721166690191, 713.3509999990463, 733.6981499989828, 1262.3212666670481, 1264.283033335209, 1373.0088666677475]\n"
     ]
    }
   ],
   "source": [
    "print(deltas)"
   ]
  },
  {
   "cell_type": "code",
   "execution_count": 10,
   "id": "14375860",
   "metadata": {},
   "outputs": [
    {
     "name": "stdout",
     "output_type": "stream",
     "text": [
      "[1.0, 0.0017881678009510724, 0.001482894038743581, 0.0014771623681310746, 0.0014695679301234307, 0.0013998720516963442, 0.001361103195919827, 0.0007915642888196172, 0.0007903370025946376, 0.0007277973412392923]\n"
     ]
    }
   ],
   "source": [
    "weights = [1 / (1 + d) for d in deltas]\n",
    "\n",
    "print(weights)"
   ]
  },
  {
   "cell_type": "code",
   "execution_count": 11,
   "id": "c527afbd",
   "metadata": {},
   "outputs": [
    {
     "name": "stdout",
     "output_type": "stream",
     "text": [
      "[1.00000000e+00 9.10719636e-05 1.33683987e-05 1.27979251e-05\n",
      " 1.20730450e-05 6.86425303e-06 4.89007704e-06 7.29481011e-10\n",
      " 7.06015525e-10 1.15300297e-10]\n"
     ]
    }
   ],
   "source": [
    "import numpy as np\n",
    "\n",
    "tau = 60\n",
    "\n",
    "weights_exp = np.exp(-np.array(deltas) / tau)\n",
    "\n",
    "print(weights_exp)"
   ]
  },
  {
   "cell_type": "code",
   "execution_count": 12,
   "id": "c7c905a2",
   "metadata": {},
   "outputs": [],
   "source": [
    "weights = weights / np.sum(weights)\n",
    "weights_exp = weights_exp / np.sum(weights_exp)"
   ]
  },
  {
   "cell_type": "code",
   "execution_count": 13,
   "id": "438c56df",
   "metadata": {},
   "outputs": [
    {
     "name": "stdout",
     "output_type": "stream",
     "text": [
      "[9.88837541e-01 1.76820745e-03 1.46634129e-03 1.46067360e-03\n",
      " 1.45316394e-03 1.38424604e-03 1.34590994e-03 7.82728485e-04\n",
      " 7.81514898e-04 7.19673333e-04]\n"
     ]
    }
   ],
   "source": [
    "print(weights)"
   ]
  },
  {
   "cell_type": "code",
   "execution_count": 14,
   "id": "0e235c44",
   "metadata": {},
   "outputs": [],
   "source": [
    "# !pip install groq"
   ]
  },
  {
   "cell_type": "code",
   "execution_count": 15,
   "id": "e562b296",
   "metadata": {},
   "outputs": [],
   "source": [
    "from groq import AsyncGroq\n",
    "import os\n",
    "from dotenv import load_dotenv\n",
    "\n",
    "load_dotenv()\n",
    "\n",
    "GROQ_API_KEY = os.getenv(\"GROQ_API_KEY\")   \n",
    "\n",
    "\n",
    "client = AsyncGroq(\n",
    "    api_key=GROQ_API_KEY,\n",
    ")"
   ]
  },
  {
   "cell_type": "code",
   "execution_count": 16,
   "id": "02e3a5ee",
   "metadata": {},
   "outputs": [],
   "source": [
    "system_prompt = f\"\"\"\n",
    "You are an intelligent model that classifies both the music genre and the listener’s mood\n",
    "based on multiple songs provided together.\n",
    "\n",
    "The user prompt will be a JSON list containing up to 10 song objects in this format:\n",
    "[\n",
    "  {{\n",
    "    \"song name\": \"\",\n",
    "    \"artist/s\": [],\n",
    "    \"Album\": \"\"\n",
    "  }},\n",
    "  ...\n",
    "]\n",
    "\n",
    "Your task:\n",
    "1. Analyze all songs jointly to understand the listener's overall context.\n",
    "2. For each song, infer its most relevant specific genres and moods.\n",
    "3. Avoid broad or generic genre labels like \"pop\", \"rock\", \"indie\" unless strongly justified by the artist or song identity.\n",
    "4. Use precise subgenres or stylistic tags whenever possible (e.g., \"synthpop\", \"folk rock\", \"trap\", \"R&B soul\").\n",
    "\n",
    "Generate output strictly in this JSON format:\n",
    "[\n",
    "  {{\n",
    "    \"song name\": \"\",\n",
    "    \"genre\": [<up to 5 accurate genre tags>],\n",
    "    \"mood\": [<up to 5 accurate mood tags>]\n",
    "  }},\n",
    "  ...\n",
    "]\n",
    "\n",
    "IMPORTANT INSTRUCTIONS:\n",
    "- Do not enclose it in PYTHON or JSON syntax blocks.\n",
    "- Do not include explanations or commentary.\n",
    "- Output must be valid JSON only.\n",
    "\"\"\"\n"
   ]
  },
  {
   "cell_type": "code",
   "execution_count": 17,
   "id": "5bf090bb",
   "metadata": {},
   "outputs": [],
   "source": [
    "response = await client.chat.completions.create(\n",
    "    messages=[\n",
    "        {\n",
    "            \"role\": \"system\",\n",
    "            \"content\": system_prompt,\n",
    "        },\n",
    "        {\n",
    "            \"role\": \"user\",\n",
    "            \"content\": str(items_dict.values()),\n",
    "        },\n",
    "    ],\n",
    "    model=\"llama-3.3-70b-versatile\",\n",
    "    temperature=0.5\n",
    ")"
   ]
  },
  {
   "cell_type": "code",
   "execution_count": 18,
   "id": "d2c24ce8",
   "metadata": {},
   "outputs": [
    {
     "name": "stdout",
     "output_type": "stream",
     "text": [
      "[\n",
      "  {\n",
      "    \"song name\": \"Shakti NonStop Garba\",\n",
      "    \"genre\": [\"Garba\", \"Gujarati Folk\", \"Traditional Indian\", \"Devotional\", \"Classical\"],\n",
      "    \"mood\": [\"Energetic\", \"Spiritual\", \"Joyful\", \"Uplifting\", \"Cultural\"]\n",
      "  },\n",
      "  {\n",
      "    \"song name\": \"Jawani Jan-E-Man\",\n",
      "    \"genre\": [\"Bollywood\", \"Indian Classical\", \"Film Song\", \"Hindi Music\", \"Retro\"],\n",
      "    \"mood\": [\"Nostalgic\", \"Romantic\", \"Soulful\", \"Melancholic\", \"Timeless\"]\n",
      "  },\n",
      "  {\n",
      "    \"song name\": \"After Party\",\n",
      "    \"genre\": [\"Trap\", \"Hip-Hop\", \"Rap\", \"Electronic\", \"Party\"],\n",
      "    \"mood\": [\"Energetic\", \"Dark\", \"Seductive\", \"Rebellious\", \"Wild\"]\n",
      "  },\n",
      "  {\n",
      "    \"song name\": \"back to friends\",\n",
      "    \"genre\": [\"Indie Electronic\", \"Chillout\", \"Downtempo\", \"Lo-Fi\", \"Mellow\"],\n",
      "    \"mood\": [\"Relaxed\", \"Introspective\", \"Melancholic\", \"Nostalgic\", \"Sober\"]\n",
      "  },\n",
      "  {\n",
      "    \"song name\": \"Radha Ne Kaan Kare Vaat\",\n",
      "    \"genre\": [\"Gujarati Folk\", \"Traditional Indian\", \"Devotional\", \"Classical\", \"Spiritual\"],\n",
      "    \"mood\": [\"Serene\", \"Soulful\", \"Spiritual\", \"Uplifting\", \"Cultural\"]\n",
      "  },\n",
      "  {\n",
      "    \"song name\": \"Shakti NonStop Garba\",\n",
      "    \"genre\": [\"Garba\", \"Gujarati Folk\", \"Traditional Indian\", \"Devotional\", \"Classical\"],\n",
      "    \"mood\": [\"Energetic\", \"Spiritual\", \"Joyful\", \"Uplifting\", \"Cultural\"]\n",
      "  },\n",
      "  {\n",
      "    \"song name\": \"Up - Theme from the Motion Picture\",\n",
      "    \"genre\": [\"Film Score\", \"Instrumental\", \"Orchestral\", \"Cinematic\", \"Emotive\"],\n",
      "    \"mood\": [\"Inspirational\", \"Uplifting\", \"Nostalgic\", \"Adventurous\", \"Emotional\"]\n",
      "  },\n",
      "  {\n",
      "    \"song name\": \"Someone To You\",\n",
      "    \"genre\": [\"Indie Pop\", \"Alternative\", \"Acoustic\", \"Singer-Songwriter\", \"Mellow\"],\n",
      "    \"mood\": [\"Introspective\", \"Emotional\", \"Melancholic\", \"Longing\", \"Romantic\"]\n",
      "  },\n",
      "  {\n",
      "    \"song name\": \"Chupke Chupke Raat Din\",\n",
      "    \"genre\": [\"Ghazal\", \"Indian Classical\", \"Hindi Music\", \"Semi-Classical\", \"Romantic\"],\n",
      "    \"mood\": [\"Soulful\", \"Melancholic\", \"Romantic\", \"Introspective\", \"Timeless\"]\n",
      "  },\n",
      "  {\n",
      "    \"song name\": \"Chupke Chupke Raat Din\",\n",
      "    \"genre\": [\"Ghazal\", \"Indian Classical\", \"Hindi Music\", \"Semi-Classical\", \"Romantic\"],\n",
      "    \"mood\": [\"Soulful\", \"Melancholic\", \"Romantic\", \"Introspective\", \"Timeless\"]\n",
      "  }\n",
      "]\n"
     ]
    }
   ],
   "source": [
    "print(response.choices[0].message.content)"
   ]
  },
  {
   "cell_type": "code",
   "execution_count": 19,
   "id": "009607a2",
   "metadata": {},
   "outputs": [],
   "source": [
    "import json\n",
    "\n",
    "response_json = json.loads(response.choices[0].message.content)"
   ]
  },
  {
   "cell_type": "code",
   "execution_count": 20,
   "id": "322233e0",
   "metadata": {},
   "outputs": [
    {
     "name": "stdout",
     "output_type": "stream",
     "text": [
      "[{'song name': 'Shakti NonStop Garba', 'genre': ['Garba', 'Gujarati Folk', 'Traditional Indian', 'Devotional', 'Classical'], 'mood': ['Energetic', 'Spiritual', 'Joyful', 'Uplifting', 'Cultural']}, {'song name': 'Jawani Jan-E-Man', 'genre': ['Bollywood', 'Indian Classical', 'Film Song', 'Hindi Music', 'Retro'], 'mood': ['Nostalgic', 'Romantic', 'Soulful', 'Melancholic', 'Timeless']}, {'song name': 'After Party', 'genre': ['Trap', 'Hip-Hop', 'Rap', 'Electronic', 'Party'], 'mood': ['Energetic', 'Dark', 'Seductive', 'Rebellious', 'Wild']}, {'song name': 'back to friends', 'genre': ['Indie Electronic', 'Chillout', 'Downtempo', 'Lo-Fi', 'Mellow'], 'mood': ['Relaxed', 'Introspective', 'Melancholic', 'Nostalgic', 'Sober']}, {'song name': 'Radha Ne Kaan Kare Vaat', 'genre': ['Gujarati Folk', 'Traditional Indian', 'Devotional', 'Classical', 'Spiritual'], 'mood': ['Serene', 'Soulful', 'Spiritual', 'Uplifting', 'Cultural']}, {'song name': 'Shakti NonStop Garba', 'genre': ['Garba', 'Gujarati Folk', 'Traditional Indian', 'Devotional', 'Classical'], 'mood': ['Energetic', 'Spiritual', 'Joyful', 'Uplifting', 'Cultural']}, {'song name': 'Up - Theme from the Motion Picture', 'genre': ['Film Score', 'Instrumental', 'Orchestral', 'Cinematic', 'Emotive'], 'mood': ['Inspirational', 'Uplifting', 'Nostalgic', 'Adventurous', 'Emotional']}, {'song name': 'Someone To You', 'genre': ['Indie Pop', 'Alternative', 'Acoustic', 'Singer-Songwriter', 'Mellow'], 'mood': ['Introspective', 'Emotional', 'Melancholic', 'Longing', 'Romantic']}, {'song name': 'Chupke Chupke Raat Din', 'genre': ['Ghazal', 'Indian Classical', 'Hindi Music', 'Semi-Classical', 'Romantic'], 'mood': ['Soulful', 'Melancholic', 'Romantic', 'Introspective', 'Timeless']}, {'song name': 'Chupke Chupke Raat Din', 'genre': ['Ghazal', 'Indian Classical', 'Hindi Music', 'Semi-Classical', 'Romantic'], 'mood': ['Soulful', 'Melancholic', 'Romantic', 'Introspective', 'Timeless']}]\n"
     ]
    }
   ],
   "source": [
    "print(response_json)"
   ]
  },
  {
   "cell_type": "code",
   "execution_count": 21,
   "id": "c29da1b5",
   "metadata": {},
   "outputs": [
    {
     "name": "stdout",
     "output_type": "stream",
     "text": [
      "Weighted mood distribution:\n",
      "uplifting: 0.1986\n",
      "energetic: 0.1983\n",
      "spiritual: 0.1983\n",
      "cultural: 0.1983\n",
      "joyful: 0.1980\n",
      "melancholic: 0.0011\n",
      "soulful: 0.0009\n",
      "nostalgic: 0.0009\n",
      "romantic: 0.0008\n",
      "introspective: 0.0007\n",
      "timeless: 0.0007\n",
      "emotional: 0.0004\n",
      "dark: 0.0003\n",
      "seductive: 0.0003\n",
      "rebellious: 0.0003\n",
      "wild: 0.0003\n",
      "relaxed: 0.0003\n",
      "sober: 0.0003\n",
      "serene: 0.0003\n",
      "inspirational: 0.0003\n",
      "adventurous: 0.0003\n",
      "longing: 0.0002\n"
     ]
    }
   ],
   "source": [
    "from collections import defaultdict\n",
    "\n",
    "mood_weights = defaultdict(float)\n",
    "\n",
    "for i, song in enumerate(response_json):\n",
    "    for mood in song['mood']:\n",
    "        mood_weights[mood.lower()] += weights[i]\n",
    "\n",
    "# Normalize again (for relative proportions)\n",
    "total = sum(mood_weights.values())\n",
    "normalized_moods = {m: w / total for m, w in mood_weights.items()}\n",
    "\n",
    "# Sort to get top weighted moods\n",
    "top_moods = sorted(normalized_moods.items(), key=lambda x: x[1], reverse=True)\n",
    "\n",
    "print(\"Weighted mood distribution:\")\n",
    "for mood, weight in top_moods:\n",
    "    print(f\"{mood}: {weight:.4f}\")"
   ]
  },
  {
   "cell_type": "code",
   "execution_count": 22,
   "id": "21e94319",
   "metadata": {},
   "outputs": [],
   "source": [
    "top_moods_to_use_for_recommendations = sorted(normalized_moods.items(), key=lambda x: x[1], reverse=True)[:10]"
   ]
  },
  {
   "cell_type": "code",
   "execution_count": 23,
   "id": "bf6f30e1",
   "metadata": {},
   "outputs": [
    {
     "name": "stdout",
     "output_type": "stream",
     "text": [
      "[('uplifting', 0.1986041721867414), ('energetic', 0.1983376256705715), ('spiritual', 0.19833499019927564), ('cultural', 0.19833499019927564), ('joyful', 0.19804435741159845), ('melancholic', 0.0011025595542855243), ('soulful', 0.000944511924221312), ('nostalgic', 0.0009149581984688879), ('romantic', 0.00081042483352733), ('introspective', 0.0007489180640405721)]\n"
     ]
    }
   ],
   "source": [
    "print(top_moods_to_use_for_recommendations)"
   ]
  },
  {
   "cell_type": "code",
   "execution_count": 24,
   "id": "5265e66f",
   "metadata": {},
   "outputs": [],
   "source": [
    "mood_context = \", \".join([m for m, _ in top_moods_to_use_for_recommendations])"
   ]
  },
  {
   "cell_type": "code",
   "execution_count": 25,
   "id": "0c151307",
   "metadata": {},
   "outputs": [
    {
     "name": "stdout",
     "output_type": "stream",
     "text": [
      "uplifting, energetic, spiritual, cultural, joyful, melancholic, soulful, nostalgic, romantic, introspective\n"
     ]
    }
   ],
   "source": [
    "print(mood_context)"
   ]
  },
  {
   "cell_type": "code",
   "execution_count": 26,
   "id": "563dd628",
   "metadata": {},
   "outputs": [],
   "source": [
    "# option to select from vegetarian, non-vegetarian, vegan, no preference, etc.\n",
    "v = \"vegetarian\"\n",
    "preference = [v]"
   ]
  },
  {
   "cell_type": "code",
   "execution_count": 27,
   "id": "681b586b",
   "metadata": {},
   "outputs": [],
   "source": [
    "system_prompt_food_rec = f\"\"\"\n",
    "You are an intelligent Food Recommender Agent that recommends food by the moods and the preferences of the user.\n",
    "\n",
    "You will be given user's idenfiied moods based on its normalized weights. Also, You will be given user's preferences.\n",
    "\n",
    "Input format:\n",
    "{{\n",
    "moods: [<list of tuples in (mood, normalized weight) format>],\n",
    "food_preference: [],\n",
    "other_preferences: []\n",
    "}}\n",
    "\n",
    "Output:\n",
    "{{\n",
    "Suggested_food: [<list of 10 recommended food based on preferences>]\n",
    "}}\n",
    "\n",
    "IMPORTANT INSTRUCTIONS:\n",
    "- DO NOT ADD ANY OTHER EXPLANATION.\n",
    "- ONLY RETURN OUTPUT IN THE SPECIFIED FORMAT.\n",
    "- DO NOT ENCLOSE IT IN ``` python .... ``` OR ```json...```.\n",
    " \"\"\"\n",
    "\n",
    "\n",
    "user_prompt_food_rec = f\"\"\"\n",
    "moods: {top_moods_to_use_for_recommendations}\n",
    "food_preference: {preference}\n",
    "other_preferences: []\n",
    "\"\"\"\n"
   ]
  },
  {
   "cell_type": "code",
   "execution_count": 28,
   "id": "df299b4d",
   "metadata": {},
   "outputs": [],
   "source": [
    "response_food_rec = await client.chat.completions.create(\n",
    "    messages=[\n",
    "        {\n",
    "            \"role\": \"system\",\n",
    "            \"content\": system_prompt_food_rec,\n",
    "        },\n",
    "        {\n",
    "            \"role\": \"user\",\n",
    "            \"content\": user_prompt_food_rec,\n",
    "        },\n",
    "    ],\n",
    "    model=\"llama-3.3-70b-versatile\",\n",
    "    temperature=0.5\n",
    ")\n"
   ]
  },
  {
   "cell_type": "code",
   "execution_count": 29,
   "id": "6dafbd85",
   "metadata": {},
   "outputs": [
    {
     "name": "stdout",
     "output_type": "stream",
     "text": [
      "{\n",
      "Suggested_food: ['Vegetable stir-fry', 'Lentil soup', 'Grilled portobello mushrooms', 'Quinoa salad', 'Roasted vegetable bowl', 'Stuffed bell peppers', 'Vegetable curry', 'Spinach and feta stuffed shells', 'Grilled eggplant parmesan', 'Butternut squash risotto']\n",
      "}\n"
     ]
    }
   ],
   "source": [
    "print(response_food_rec.choices[0].message.content)"
   ]
  }
 ],
 "metadata": {
  "kernelspec": {
   "display_name": "Python 3",
   "language": "python",
   "name": "python3"
  },
  "language_info": {
   "codemirror_mode": {
    "name": "ipython",
    "version": 3
   },
   "file_extension": ".py",
   "mimetype": "text/x-python",
   "name": "python",
   "nbconvert_exporter": "python",
   "pygments_lexer": "ipython3",
   "version": "3.12.6"
  }
 },
 "nbformat": 4,
 "nbformat_minor": 5
}
